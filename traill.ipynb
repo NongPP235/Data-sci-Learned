{
 "cells": [
  {
   "cell_type": "code",
   "execution_count": 5,
   "id": "92c7f8e9",
   "metadata": {},
   "outputs": [],
   "source": [
    "import numpy as np\n",
    "import pandas as pd\n",
    "import random as rd\n",
    "import math\n",
    "import statistics as st"
   ]
  },
  {
   "cell_type": "code",
   "execution_count": null,
   "id": "807795e2",
   "metadata": {},
   "outputs": [],
   "source": [
    "THname = [\n",
    "    \"สมชาย\", \"สมหญิง\", \"วิชัย\", \"นฤมล\", \"สุชาติ\", \"ณัฐธิดา\", \"ประเสริฐ\", \"ปวีณา\", \"อาคม\", \"ชุติมา\",\n",
    "    \"เกรียงศักดิ์\", \"ศิริพร\", \"วรากร\", \"มัณฑนา\", \"ศักดา\", \"พิมพ์ใจ\", \"อนันต์\", \"อรอนงค์\", \"จักรพงษ์\", \"อัจฉรา\",\n",
    "    \"วิเชียร\", \"วรรณา\", \"ณรงค์\", \"กรรณิการ์\", \"บุญเลิศ\", \"สายใจ\", \"พรชัย\", \"นงนุช\", \"สมบูรณ์\", \"สุนิสา\",\n",
    "    \"วีระ\", \"จินตนา\", \"ศุภชัย\", \"สุกัญญา\", \"พิเชษฐ์\", \"อรทัย\", \"ชาญชัย\", \"ธิดารัตน์\", \"ไพโรจน์\", \"จารุวรรณ\",\n",
    "    \"ธีระ\", \"กัลยา\", \"วินัย\", \"เบญจวรรณ\", \"ประทีป\", \"มยุรี\", \"กิตติ\", \"นุจรี\", \"ถาวร\", \"สุกัญญา\",\n",
    "]\n",
    "\n",
    "ENGname = [\"James\", \"Emily\", \"Michael\", \"Olivia\", \"William\", \"Sophia\", \"David\", \"Emma\", \"John\", \"Ava\",\n",
    "    \"Daniel\", \"Mia\", \"Matthew\", \"Isabella\", \"Joseph\", \"Charlotte\", \"Andrew\", \"Amelia\", \"Christopher\", \"Harper\",\n",
    "    \"Joshua\", \"Evelyn\", \"Anthony\", \"Abigail\", \"Nicholas\", \"Ella\", \"Jonathan\", \"Grace\", \"Samuel\", \"Chloe\",\n",
    "    \"Benjamin\", \"Lily\", \"Alexander\", \"Zoey\", \"Ryan\", \"Sofia\", \"Jacob\", \"Aria\", \"Ethan\", \"Scarlett\",\n",
    "    \"Nathan\", \"Layla\", \"Logan\", \"Avery\", \"Justin\", \"Ellie\", \"Kevin\", \"Nora\", \"Brian\", \"Hannah\"]\n",
    "\n",
    "\n",
    "class Arailist:\n",
    "    def __init__(self):\n",
    "        l = []\n",
    "        l.append(self)\n",
    "        return l \n",
    "    def ranTHAIname(num):\n",
    "        namelist = []\n",
    "        for i in range(num):\n",
    "            selected =  rd.choice(THname)\n",
    "            namelist.append(selected)\n",
    "        return namelist\n",
    "    def ranENGname(num):\n",
    "        namelist = []\n",
    "        for i in range(num):\n",
    "            selected = rd.choice(ENGname)\n",
    "            namelist.append(selected)\n",
    "        return namelist\n",
    "    def ranInteger(num,start = int,end = int):\n",
    "        lists = []\n",
    "        for i in range(num):\n",
    "            ran = rd.randint(start,end)\n",
    "            lists.append(ran)\n",
    "        return lists\n",
    "    def listcal(l1 = list,l2 = list,opr = ''):\n",
    "        k = []\n",
    "        if opr == '-':\n",
    "            for i in range(len(l1)):\n",
    "                r = l1[i] - l2[i]\n",
    "                k.append(r)\n",
    "        elif opr == '+':\n",
    "            for i in range(len(l1)):\n",
    "                r = l1[i] + l2[i]\n",
    "                k.append(r)\n",
    "        elif opr == '*':\n",
    "            for i in range(len(l1)):\n",
    "                r = l1[i] * l2[i]\n",
    "                k.append(r)\n",
    "        elif opr == '/':\n",
    "            for i in range(len(l1)):\n",
    "                r = l1[i] / l2[i]\n",
    "                k.append(r)\n",
    "        return k"
   ]
  },
  {
   "cell_type": "code",
   "execution_count": null,
   "id": "1a92d34b",
   "metadata": {},
   "outputs": [
    {
     "name": "stdout",
     "output_type": "stream",
     "text": [
      "2,7,3,1,9\n",
      "6,8,10,10,2\n",
      "4\n"
     ]
    },
    {
     "data": {
      "text/plain": [
       "'16,1,49,81,49'"
      ]
     },
     "execution_count": 15,
     "metadata": {},
     "output_type": "execute_result"
    }
   ],
   "source": [
    "array = np.array((Arailist.ranInteger(5,1,10),Arailist.ranInteger(5,1,10)))\n",
    "result = (array[0] ** 2) - (2 * array[0] * array[1]) + (array[1] ** 2)\n",
    "\n",
    "print(array[0])\n",
    "print(array[1])\n",
    "\n",
    "print(st.mean(array[0]))\n",
    "','.join(map(str,result))"
   ]
  },
  {
   "cell_type": "code",
   "execution_count": null,
   "id": "36dc68f6",
   "metadata": {},
   "outputs": [
    {
     "data": {
      "text/html": [
       "<div>\n",
       "<style scoped>\n",
       "    .dataframe tbody tr th:only-of-type {\n",
       "        vertical-align: middle;\n",
       "    }\n",
       "\n",
       "    .dataframe tbody tr th {\n",
       "        vertical-align: top;\n",
       "    }\n",
       "\n",
       "    .dataframe thead th {\n",
       "        text-align: right;\n",
       "    }\n",
       "</style>\n",
       "<table border=\"1\" class=\"dataframe\">\n",
       "  <thead>\n",
       "    <tr style=\"text-align: right;\">\n",
       "      <th></th>\n",
       "      <th>name</th>\n",
       "      <th>age</th>\n",
       "      <th>income</th>\n",
       "      <th>Use</th>\n",
       "      <th>ngern geb</th>\n",
       "    </tr>\n",
       "  </thead>\n",
       "  <tbody>\n",
       "    <tr>\n",
       "      <th>0</th>\n",
       "      <td>Daniel</td>\n",
       "      <td>55</td>\n",
       "      <td>63117</td>\n",
       "      <td>21819</td>\n",
       "      <td>2.892754</td>\n",
       "    </tr>\n",
       "    <tr>\n",
       "      <th>1</th>\n",
       "      <td>Ella</td>\n",
       "      <td>31</td>\n",
       "      <td>51365</td>\n",
       "      <td>70820</td>\n",
       "      <td>0.725289</td>\n",
       "    </tr>\n",
       "    <tr>\n",
       "      <th>2</th>\n",
       "      <td>David</td>\n",
       "      <td>33</td>\n",
       "      <td>41746</td>\n",
       "      <td>88436</td>\n",
       "      <td>0.472048</td>\n",
       "    </tr>\n",
       "    <tr>\n",
       "      <th>3</th>\n",
       "      <td>Isabella</td>\n",
       "      <td>36</td>\n",
       "      <td>64906</td>\n",
       "      <td>54410</td>\n",
       "      <td>1.192906</td>\n",
       "    </tr>\n",
       "  </tbody>\n",
       "</table>\n",
       "</div>"
      ],
      "text/plain": [
       "       name  age  income    Use  ngern geb\n",
       "0    Daniel   55   63117  21819   2.892754\n",
       "1      Ella   31   51365  70820   0.725289\n",
       "2     David   33   41746  88436   0.472048\n",
       "3  Isabella   36   64906  54410   1.192906"
      ]
     },
     "execution_count": 20,
     "metadata": {},
     "output_type": "execute_result"
    }
   ],
   "source": [
    "n = Arailist.ranENGname(4)\n",
    "a = Arailist.ranInteger(4,20,60)\n",
    "income = Arailist.ranInteger(4,15000,100000)\n",
    "use = Arailist.ranInteger(4,10000,100000)\n",
    "r = Arailist.listcal(income,use,'+')\n",
    "\n",
    "data = {\n",
    "    \"name\":n,\n",
    "    'age':a,\n",
    "    'income':income,\n",
    "    'Use':use,\n",
    "    'ngern geb': r\n",
    "}\n",
    "\n",
    "df = pd.DataFrame(data)\n",
    "\n",
    "df"
   ]
  },
  {
   "cell_type": "code",
   "execution_count": 22,
   "id": "aba4ab49",
   "metadata": {},
   "outputs": [
    {
     "ename": "ValueError",
     "evalue": "invalid literal for int() with base 10: ''",
     "output_type": "error",
     "traceback": [
      "\u001b[31m---------------------------------------------------------------------------\u001b[39m",
      "\u001b[31mValueError\u001b[39m                                Traceback (most recent call last)",
      "\u001b[36mCell\u001b[39m\u001b[36m \u001b[39m\u001b[32mIn[22]\u001b[39m\u001b[32m, line 9\u001b[39m\n\u001b[32m      5\u001b[39m     \u001b[38;5;28;01melse\u001b[39;00m:\n\u001b[32m      6\u001b[39m         \u001b[38;5;28;01mreturn\u001b[39;00m maxn(n1[i+\u001b[32m1\u001b[39m],maxx,i+\u001b[32m1\u001b[39m)\n\u001b[32m----> \u001b[39m\u001b[32m9\u001b[39m n = \u001b[38;5;28;43mlist\u001b[39;49m\u001b[43m(\u001b[49m\u001b[38;5;28;43mmap\u001b[39;49m\u001b[43m(\u001b[49m\u001b[38;5;28;43mint\u001b[39;49m\u001b[43m,\u001b[49m\u001b[38;5;28;43minput\u001b[39;49m\u001b[43m(\u001b[49m\u001b[43m)\u001b[49m\u001b[43m.\u001b[49m\u001b[43msplit\u001b[49m\u001b[43m(\u001b[49m\u001b[33;43m'\u001b[39;49m\u001b[33;43m,\u001b[39;49m\u001b[33;43m'\u001b[39;49m\u001b[43m)\u001b[49m\u001b[43m)\u001b[49m\u001b[43m)\u001b[49m\n\u001b[32m     11\u001b[39m \u001b[38;5;28mprint\u001b[39m(maxn(n,\u001b[32m0\u001b[39m,\u001b[32m0\u001b[39m))\n",
      "\u001b[31mValueError\u001b[39m: invalid literal for int() with base 10: ''"
     ]
    }
   ],
   "source": [
    "def maxn(n1,maxx,i):\n",
    "    if n1[i] >= maxx:\n",
    "        maxx == n1[i]\n",
    "        return maxn(n1[i+1],maxx,i+1)\n",
    "    else:\n",
    "        return maxn(n1[i+1],maxx,i+1)\n",
    "    \n",
    "    \n",
    "n = list(map(int,input().split(',')))\n",
    "\n",
    "print(maxn(n,0,0))"
   ]
  }
 ],
 "metadata": {
  "kernelspec": {
   "display_name": "Python 3",
   "language": "python",
   "name": "python3"
  },
  "language_info": {
   "codemirror_mode": {
    "name": "ipython",
    "version": 3
   },
   "file_extension": ".py",
   "mimetype": "text/x-python",
   "name": "python",
   "nbconvert_exporter": "python",
   "pygments_lexer": "ipython3",
   "version": "3.12.4"
  }
 },
 "nbformat": 4,
 "nbformat_minor": 5
}
