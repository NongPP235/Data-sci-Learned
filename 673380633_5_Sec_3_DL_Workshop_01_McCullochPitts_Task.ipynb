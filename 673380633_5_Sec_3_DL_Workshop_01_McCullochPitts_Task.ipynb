{
  "nbformat": 4,
  "nbformat_minor": 0,
  "metadata": {
    "colab": {
      "provenance": [],
      "include_colab_link": true
    },
    "kernelspec": {
      "name": "python3",
      "display_name": "Python 3"
    },
    "language_info": {
      "name": "python"
    }
  },
  "cells": [
    {
      "cell_type": "markdown",
      "metadata": {
        "id": "view-in-github",
        "colab_type": "text"
      },
      "source": [
        "<a href=\"https://colab.research.google.com/github/NongPP235/Data-sci-Learned/blob/main/673380633_5_Sec_3_DL_Workshop_01_McCullochPitts_Task.ipynb\" target=\"_parent\"><img src=\"https://colab.research.google.com/assets/colab-badge.svg\" alt=\"Open In Colab\"/></a>"
      ]
    },
    {
      "cell_type": "markdown",
      "source": [
        "# Task: McCulloch-Pitts Neuron\n",
        "Solve the given problem using a McCulloch-Pitts Neuron.\n",
        "* Write a simple script using a class-based structure.\n",
        "* Find the optimal weights.\n",
        "* The `threshold` is given as **`0`**.\n",
        "\n",
        "\n",
        "\n",
        "\n",
        "\n",
        "\n",
        "\n",
        "\n",
        "\n"
      ],
      "metadata": {
        "id": "bl8_Mkm55f_I"
      }
    },
    {
      "cell_type": "code",
      "source": [
        "import numpy as np"
      ],
      "metadata": {
        "id": "_B1MUyes7Qy5"
      },
      "execution_count": null,
      "outputs": []
    },
    {
      "cell_type": "markdown",
      "source": [
        "## dataset\n",
        "* The dataset includes feature data and target data, stored in the variable `data` with a shape of (32, 6).\n",
        "* The feature data consists of randomized logic `{0,1}` simulations with a shape of (32, 5), stored in the variable `data` (column 1-5).\n",
        "* The target data is the corresponding output of the feature logic, with a shape of (32, 1), stored in the variable `data` (the last column)."
      ],
      "metadata": {
        "id": "I6ojPEgK5euZ"
      }
    },
    {
      "cell_type": "code",
      "source": [
        "data = np.array([\n",
        "    [0,0,0,0,0,1],\n",
        "    [0,0,0,0,1,1],\n",
        "    [0,0,0,1,0,0],\n",
        "    [0,0,0,1,1,1],\n",
        "    [0,0,1,0,0,0],\n",
        "    [0,0,1,0,1,0],\n",
        "    [0,0,1,1,0,0],\n",
        "    [0,0,1,1,1,0],\n",
        "    [0,1,0,0,0,1],\n",
        "    [0,1,0,0,1,1],\n",
        "    [0,1,0,1,0,1],\n",
        "    [0,1,0,1,1,1],\n",
        "    [0,1,1,0,0,0],\n",
        "    [0,1,1,0,1,1],\n",
        "    [0,1,1,1,0,0],\n",
        "    [0,1,1,1,1,0],\n",
        "    [1,0,0,0,0,1],\n",
        "    [1,0,0,0,1,1],\n",
        "    [1,0,0,1,0,0],\n",
        "    [1,0,0,1,1,1],\n",
        "    [1,0,1,0,0,0],\n",
        "    [1,0,1,0,1,1],\n",
        "    [1,0,1,1,0,0],\n",
        "    [1,0,1,1,1,0],\n",
        "    [1,1,0,0,0,1],\n",
        "    [1,1,0,0,1,1],\n",
        "    [1,1,0,1,0,1],\n",
        "    [1,1,0,1,1,1],\n",
        "    [1,1,1,0,0,1],\n",
        "    [1,1,1,0,1,1],\n",
        "    [1,1,1,1,0,0],\n",
        "    [1,1,1,1,1,0]\n",
        "])\n"
      ],
      "metadata": {
        "id": "kyooKkCV7WRq"
      },
      "execution_count": null,
      "outputs": []
    },
    {
      "cell_type": "code",
      "source": [
        "\n",
        "print(data[:,5])"
      ],
      "metadata": {
        "colab": {
          "base_uri": "https://localhost:8080/"
        },
        "id": "wHGG05ri8RLU",
        "outputId": "e17bc40d-ef40-4534-bbb0-e94bdc5bc187"
      },
      "execution_count": null,
      "outputs": [
        {
          "output_type": "stream",
          "name": "stdout",
          "text": [
            "[1 1 0 1 0 0 0 0 1 1 1 1 0 1 0 0 1 1 0 1 0 1 0 0 1 1 1 1 1 1 0 0]\n"
          ]
        }
      ]
    },
    {
      "cell_type": "code",
      "source": [
        "import random as rd\n",
        "\n",
        "rannum = np.random.rand(5)\n",
        "\n",
        "numlist = []\n",
        "for i in range(5):\n",
        "    numlist.append(rd.randrange(-5,5))\n",
        "\n",
        "numlist"
      ],
      "metadata": {
        "colab": {
          "base_uri": "https://localhost:8080/"
        },
        "id": "MRvGacKcfc-_",
        "outputId": "45d7d46f-ebd9-4427-c171-8ffbbdc16024"
      },
      "execution_count": null,
      "outputs": [
        {
          "output_type": "execute_result",
          "data": {
            "text/plain": [
              "[1, -1, -2, -4, -3]"
            ]
          },
          "metadata": {},
          "execution_count": 20
        }
      ]
    },
    {
      "cell_type": "markdown",
      "source": [
        "## Note:\n",
        "* `threshold = 0`\n",
        "* `Weights = [-5,5]`"
      ],
      "metadata": {
        "id": "Wwdj_T1yXe-Z"
      }
    },
    {
      "cell_type": "code",
      "source": [
        "threshold = 0\n",
        "w = np.array([1,2,-3,-2,2])"
      ],
      "metadata": {
        "id": "f3C6qn6c8EcB"
      },
      "execution_count": null,
      "outputs": []
    },
    {
      "cell_type": "code",
      "source": [
        "ff = np.array([1,1,0,1,0,0,0,0,1,1,1,1,0,1,0,0,1,1,0,1,0,1,0 ,0 ,1 ,1 ,1 ,1 ,1 ,1 ,0 ,0])\n",
        "ff"
      ],
      "metadata": {
        "colab": {
          "base_uri": "https://localhost:8080/"
        },
        "id": "jH-C_UWplG1i",
        "outputId": "8b8efcb3-15b5-48d0-f993-97d1c5fe0756"
      },
      "execution_count": null,
      "outputs": [
        {
          "output_type": "execute_result",
          "data": {
            "text/plain": [
              "array([1, 1, 0, 1, 0, 0, 0, 0, 1, 1, 1, 1, 0, 1, 0, 0, 1, 1, 0, 1, 0, 1,\n",
              "       0, 0, 1, 1, 1, 1, 1, 1, 0, 0])"
            ]
          },
          "metadata": {},
          "execution_count": 6
        }
      ]
    },
    {
      "cell_type": "code",
      "source": [
        "#code\n",
        "class Max_Tennyson:\n",
        "    def __init__(self,w,threshold = 0):\n",
        "        self.w = w\n",
        "        self.threshold = threshold\n",
        "    def fit(self,data):\n",
        "        self.data = data.copy()\n",
        "        self.x = self.data[:,:-1]\n",
        "        self.y = self.data[:,-1:].flatten()\n",
        "    def predict(self, data):\n",
        "        y_pred = (self.x.dot(self.w) >= self.threshold).astype(int)\n",
        "        return y_pred"
      ],
      "metadata": {
        "id": "UWHq-ppr8M5g"
      },
      "execution_count": null,
      "outputs": []
    },
    {
      "cell_type": "code",
      "source": [
        "Max = Max_Tennyson(w, threshold = 0)\n",
        "\n",
        "Max.fit(data)\n",
        "\n",
        "X,y = Max.x,Max.y\n",
        "prediction = Max.predict(X)\n",
        "\n",
        "print(f\"Prediction: {prediction}\")\n",
        "print(f\"Target:      {y}\\n\")"
      ],
      "metadata": {
        "colab": {
          "base_uri": "https://localhost:8080/"
        },
        "id": "jI5d_A9GdIbu",
        "outputId": "0804ca6b-f5ba-4468-e752-0f73ad5ff7ba"
      },
      "execution_count": null,
      "outputs": [
        {
          "output_type": "stream",
          "name": "stdout",
          "text": [
            "Prediction: [1 1 0 1 0 0 0 0 1 1 1 1 0 1 0 0 1 1 0 1 0 1 0 0 1 1 1 1 1 1 0 1]\n",
            "Target:      [1 1 0 1 0 0 0 0 1 1 1 1 0 1 0 0 1 1 0 1 0 1 0 0 1 1 1 1 1 1 0 0]\n",
            "\n"
          ]
        }
      ]
    },
    {
      "cell_type": "code",
      "source": [
        "print((prediction == ff).all())"
      ],
      "metadata": {
        "id": "pdaHxLmBiNMq",
        "colab": {
          "base_uri": "https://localhost:8080/"
        },
        "outputId": "5da43c0c-bdb4-46ce-8a24-1ea66310cce2"
      },
      "execution_count": null,
      "outputs": [
        {
          "output_type": "stream",
          "name": "stdout",
          "text": [
            "False\n"
          ]
        }
      ]
    }
  ]
}