{
 "cells": [
  {
   "cell_type": "code",
   "execution_count": 2,
   "id": "06f7b8a2",
   "metadata": {},
   "outputs": [],
   "source": [
    "import numpy as np\n",
    "import pandas as pd\n",
    "import random as rd\n",
    "import math\n",
    "import statistics as st"
   ]
  },
  {
   "cell_type": "code",
   "execution_count": 3,
   "id": "c970aa86",
   "metadata": {},
   "outputs": [
    {
     "name": "stdout",
     "output_type": "stream",
     "text": [
      "[20 40 60 80]\n",
      "<class 'numpy.ndarray'>\n"
     ]
    }
   ],
   "source": [
    "import numpy as np\n",
    "data = [20,40,60,80]\n",
    "arr = np.array(data)\n",
    "\n",
    "print(arr)\n",
    "print(type(arr))"
   ]
  },
  {
   "cell_type": "code",
   "execution_count": 4,
   "id": "9e56bf52",
   "metadata": {},
   "outputs": [
    {
     "name": "stdout",
     "output_type": "stream",
     "text": [
      "range(1, 10)\n",
      "<class 'range'>\n",
      "---------------\n",
      "[1 2 3 4 5 6 7 8 9]\n",
      "<class 'numpy.ndarray'>\n"
     ]
    }
   ],
   "source": [
    "data = range(1,10)\n",
    "print(data)\n",
    "print(type(data))\n",
    "print(\"---------------\")\n",
    "arr = np.array(data)\n",
    "print(arr)\n",
    "print(type(arr))"
   ]
  },
  {
   "cell_type": "code",
   "execution_count": 5,
   "id": "635d8ca9",
   "metadata": {},
   "outputs": [
    {
     "name": "stdout",
     "output_type": "stream",
     "text": [
      "(5,)\n",
      "<class 'numpy.ndarray'>\n",
      "[ 20  40  60  80 100]\n"
     ]
    },
    {
     "name": "stderr",
     "output_type": "stream",
     "text": [
      "C:\\Users\\pepeb\\AppData\\Local\\Temp\\ipykernel_124380\\2707183498.py:2: DeprecationWarning: Converting `np.integer` or `np.signedinteger` to a dtype is deprecated. The current result is `np.dtype(np.int_)` which is not strictly correct. Note that the result depends on the system. To ensure stable results use may want to use `np.int64` or `np.int32`.\n",
      "  arr = np.array(data, np.integer)\n"
     ]
    }
   ],
   "source": [
    "data = [20,40,60,80,100]\n",
    "arr = np.array(data, np.integer)\n",
    "\n",
    "print(arr.shape)\n",
    "print(type(arr))\n",
    "print(arr)"
   ]
  },
  {
   "cell_type": "code",
   "execution_count": 6,
   "id": "d6611383",
   "metadata": {},
   "outputs": [
    {
     "name": "stdout",
     "output_type": "stream",
     "text": [
      "(5,)\n",
      "<class 'numpy.ndarray'>\n",
      "[ 20.  40.  60.  80. 100.]\n"
     ]
    },
    {
     "name": "stderr",
     "output_type": "stream",
     "text": [
      "C:\\Users\\pepeb\\AppData\\Local\\Temp\\ipykernel_124380\\1620602494.py:2: DeprecationWarning: Converting `np.inexact` or `np.floating` to a dtype is deprecated. The current result is `float64` which is not strictly correct.\n",
      "  arr = np.array(data, np.floating)\n"
     ]
    }
   ],
   "source": [
    "data = [20,40,60,80,100]\n",
    "arr = np.array(data, np.floating)\n",
    "\n",
    "print(arr.shape)\n",
    "print(type(arr))\n",
    "print(arr)"
   ]
  },
  {
   "cell_type": "code",
   "execution_count": 7,
   "id": "862dedcf",
   "metadata": {},
   "outputs": [
    {
     "name": "stdout",
     "output_type": "stream",
     "text": [
      "int64\n",
      "<class 'numpy.ndarray'>\n",
      "[ 20  40  60  80 100]\n"
     ]
    }
   ],
   "source": [
    "data = [20,40,60,80,100]\n",
    "arr = np.array(data)\n",
    "\n",
    "print(arr.dtype)\n",
    "print(type(arr))\n",
    "print(arr)"
   ]
  },
  {
   "cell_type": "code",
   "execution_count": 8,
   "id": "795a5b3e",
   "metadata": {},
   "outputs": [
    {
     "name": "stdout",
     "output_type": "stream",
     "text": [
      "float64\n",
      "<class 'numpy.ndarray'>\n",
      "[ 3.14 12.   15.1  22.4  30.  ]\n"
     ]
    }
   ],
   "source": [
    "data = [3.14,12,15.1,22.4,30]\n",
    "arr = np.array(data)\n",
    "\n",
    "print(arr.dtype)\n",
    "print(type(arr))\n",
    "print(arr)"
   ]
  },
  {
   "cell_type": "code",
   "execution_count": 9,
   "id": "e9fffff6",
   "metadata": {},
   "outputs": [
    {
     "name": "stdout",
     "output_type": "stream",
     "text": [
      "<U10\n",
      "<class 'numpy.ndarray'>\n",
      "['Python' 'C++' 'JavaScript']\n"
     ]
    }
   ],
   "source": [
    "data = ['Python','C++','JavaScript']\n",
    "arr = np.array(data)\n",
    "\n",
    "print(arr.dtype)\n",
    "print(type(arr))\n",
    "print(arr)"
   ]
  },
  {
   "cell_type": "code",
   "execution_count": 10,
   "id": "3ed102d3",
   "metadata": {},
   "outputs": [
    {
     "name": "stdout",
     "output_type": "stream",
     "text": [
      "everage:35.0\n",
      "max:50\n",
      "min:20\n"
     ]
    }
   ],
   "source": [
    "num = [20,30,40,50]\n",
    "print(f'everage:{np.mean(num)}')\n",
    "print(f'max:{np.max(num)}')\n",
    "print(f'min:{np.min(num)}')"
   ]
  },
  {
   "cell_type": "code",
   "execution_count": 13,
   "id": "f5e74d6c",
   "metadata": {},
   "outputs": [
    {
     "name": "stdout",
     "output_type": "stream",
     "text": [
      "[0.14438286 0.61319866 0.12324653 0.85207305 0.86538441]\n",
      "10\n",
      "481\n"
     ]
    }
   ],
   "source": [
    "import random as rd\n",
    "rannum = np.random.rand(5)\n",
    "print(rannum)\n",
    "randind = rd.randint(0,10)\n",
    "print(randind)\n",
    "lange = rd.randrange(100,999)\n",
    "print(lange)"
   ]
  },
  {
   "cell_type": "code",
   "execution_count": null,
   "id": "096069d4",
   "metadata": {},
   "outputs": [
    {
     "name": "stdout",
     "output_type": "stream",
     "text": [
      "[64, 45, 36]\n"
     ]
    }
   ],
   "source": [
    "numlist = []\n",
    "for i in range(3):\n",
    "    numlist.append(rd.randint(1,101))\n",
    "\n",
    "print(numlist)"
   ]
  },
  {
   "cell_type": "code",
   "execution_count": null,
   "id": "0870f6d5",
   "metadata": {},
   "outputs": [
    {
     "name": "stdout",
     "output_type": "stream",
     "text": [
      "(2, 3)\n",
      "<class 'numpy.ndarray'>\n"
     ]
    }
   ],
   "source": [
    "arr = np.array([[100,200,300],[20,30,40]],np.int64)\n",
    "\n",
    "print(arr.shape)\n",
    "print(type(arr))"
   ]
  },
  {
   "cell_type": "code",
   "execution_count": null,
   "id": "fc721235",
   "metadata": {},
   "outputs": [
    {
     "name": "stdout",
     "output_type": "stream",
     "text": [
      "sum:690\n"
     ]
    }
   ],
   "source": [
    "arr = np.array([[100,200,300],[20,30,40]])\n",
    "\n",
    "result = np.sum(arr)\n",
    "print(f'sum:{result}')"
   ]
  },
  {
   "cell_type": "code",
   "execution_count": null,
   "id": "755c13c8",
   "metadata": {},
   "outputs": [
    {
     "name": "stdout",
     "output_type": "stream",
     "text": [
      "sum:[120 230 340]\n"
     ]
    }
   ],
   "source": [
    "#แกน y\n",
    "arr = np.array([[100,200,300],[20,30,40]])\n",
    "\n",
    "result = np.sum(arr, axis=0)\n",
    "print(f'sum:{result}')"
   ]
  },
  {
   "cell_type": "code",
   "execution_count": null,
   "id": "8001acc6",
   "metadata": {},
   "outputs": [
    {
     "name": "stdout",
     "output_type": "stream",
     "text": [
      "sum:[600  90]\n"
     ]
    }
   ],
   "source": [
    "#แกน x\n",
    "arr = np.array([[100,200,300],[20,30,40]])\n",
    "\n",
    "result = np.sum(arr, axis=1)\n",
    "print(f'sum:{result}')"
   ]
  },
  {
   "cell_type": "code",
   "execution_count": null,
   "id": "c6cf616f",
   "metadata": {},
   "outputs": [
    {
     "name": "stdout",
     "output_type": "stream",
     "text": [
      "info:[0. 0. 0. 0. 0.]\n",
      "info type:<class 'numpy.ndarray'>\n"
     ]
    }
   ],
   "source": [
    "arr = np.zeros(5)\n",
    "print(f'info:{arr}')\n",
    "print(f'info type:{type(arr)}')"
   ]
  },
  {
   "cell_type": "code",
   "execution_count": null,
   "id": "0838e40e",
   "metadata": {},
   "outputs": [
    {
     "name": "stdout",
     "output_type": "stream",
     "text": [
      "info:[[0. 0. 0. 0.]\n",
      " [0. 0. 0. 0.]]\n",
      "info type:<class 'numpy.ndarray'>\n"
     ]
    }
   ],
   "source": [
    "arr = np.zeros((2,4))\n",
    "print(f'info:{arr}')\n",
    "print(f'info type:{type(arr)}')"
   ]
  },
  {
   "cell_type": "code",
   "execution_count": null,
   "id": "26c23897",
   "metadata": {},
   "outputs": [
    {
     "name": "stdout",
     "output_type": "stream",
     "text": [
      "info:[[0 0 0 0]\n",
      " [0 0 0 0]]\n",
      "info type:int64\n"
     ]
    }
   ],
   "source": [
    "arr = np.zeros((2,4), dtype=int)\n",
    "print(f'info:{arr}')\n",
    "print(f'info type:{arr.dtype}')"
   ]
  },
  {
   "cell_type": "code",
   "execution_count": null,
   "id": "22da4ddd",
   "metadata": {},
   "outputs": [
    {
     "name": "stdout",
     "output_type": "stream",
     "text": [
      "info:[[(0, 0.) (0, 0.) (0, 0.)]\n",
      " [(0, 0.) (0, 0.) (0, 0.)]]\n",
      "info type:[('x', '<i8'), ('y', '<f8')]\n"
     ]
    }
   ],
   "source": [
    "arr = np.zeros((2,3), dtype=[('x','int'),('y','float')])\n",
    "print(f'info:{arr}')\n",
    "print(f'info type:{arr.dtype}')"
   ]
  },
  {
   "cell_type": "code",
   "execution_count": null,
   "id": "e85074e0",
   "metadata": {},
   "outputs": [
    {
     "name": "stdout",
     "output_type": "stream",
     "text": [
      "info:[1. 1. 1. 1. 1.]\n",
      "info type:<class 'numpy.ndarray'>\n"
     ]
    }
   ],
   "source": [
    "arr = np.ones(5)\n",
    "print(f'info:{arr}')\n",
    "print(f'info type:{type(arr)}')"
   ]
  },
  {
   "cell_type": "code",
   "execution_count": null,
   "id": "8ea209a8",
   "metadata": {},
   "outputs": [
    {
     "name": "stdout",
     "output_type": "stream",
     "text": [
      "info:[[1 1 1 1]\n",
      " [1 1 1 1]]\n",
      "info type:int64\n"
     ]
    }
   ],
   "source": [
    "arr = np.ones((2,4), dtype=int)\n",
    "print(f'info:{arr}')\n",
    "print(f'info type:{arr.dtype}')"
   ]
  },
  {
   "cell_type": "code",
   "execution_count": null,
   "id": "570eb6db",
   "metadata": {},
   "outputs": [
    {
     "name": "stdout",
     "output_type": "stream",
     "text": [
      "info:[[(1, 1.) (1, 1.) (1, 1.)]\n",
      " [(1, 1.) (1, 1.) (1, 1.)]]\n",
      "info type:[('x', '<i8'), ('y', '<f8')]\n"
     ]
    }
   ],
   "source": [
    "arr = np.ones((2,3), dtype=[('x','int'),('y','float')])\n",
    "print(f'info:{arr}')\n",
    "print(f'info type:{arr.dtype}')"
   ]
  },
  {
   "cell_type": "code",
   "execution_count": null,
   "id": "289527c6",
   "metadata": {},
   "outputs": [
    {
     "name": "stdout",
     "output_type": "stream",
     "text": [
      "[300 400]\n"
     ]
    }
   ],
   "source": [
    "arr = np.array([100,200,300,400])\n",
    "print(arr[2:])"
   ]
  },
  {
   "cell_type": "code",
   "execution_count": null,
   "id": "5d2cfe28",
   "metadata": {},
   "outputs": [
    {
     "name": "stdout",
     "output_type": "stream",
     "text": [
      "[100 200]\n"
     ]
    }
   ],
   "source": [
    "arr = np.array([100,200,300,400])\n",
    "print(arr[:2])"
   ]
  },
  {
   "cell_type": "code",
   "execution_count": null,
   "id": "e1e8994d",
   "metadata": {},
   "outputs": [
    {
     "name": "stdout",
     "output_type": "stream",
     "text": [
      "[200 300]\n"
     ]
    }
   ],
   "source": [
    "arr = np.array([100,200,300,400])\n",
    "print(arr[1:3])"
   ]
  },
  {
   "cell_type": "code",
   "execution_count": null,
   "id": "673c7b2b",
   "metadata": {},
   "outputs": [
    {
     "name": "stdout",
     "output_type": "stream",
     "text": [
      "r1 column1 : 100\n",
      "r2 column1 : 10\n"
     ]
    }
   ],
   "source": [
    "arr = np.array([[100,200,300,400],[10,20,30,40]])\n",
    "print(f'r1 column1 : {arr[0,0]}')\n",
    "print(f'r2 column1 : {arr[1,0]}')"
   ]
  },
  {
   "cell_type": "code",
   "execution_count": null,
   "id": "8157ec33",
   "metadata": {},
   "outputs": [
    {
     "name": "stdout",
     "output_type": "stream",
     "text": [
      "r1 column2 : 200\n",
      "r2 column2 : 20\n"
     ]
    }
   ],
   "source": [
    "arr = np.array([[100,200,300,400],[10,20,30,40]])\n",
    "print(f'r1 column2 : {arr[0,1]}')\n",
    "print(f'r2 column2 : {arr[1,1]}')"
   ]
  },
  {
   "cell_type": "code",
   "execution_count": null,
   "id": "99f69ae6",
   "metadata": {},
   "outputs": [
    {
     "data": {
      "text/plain": [
       "array([[   10,    20,    30],\n",
       "       [  100,   200,   300],\n",
       "       [ 1000,  2000,  3000],\n",
       "       [10000, 20000, 30000]])"
      ]
     },
     "execution_count": 29,
     "metadata": {},
     "output_type": "execute_result"
    }
   ],
   "source": [
    "arr = np.array([[10,20,30],\n",
    "               [100,200,300],\n",
    "               [1000,2000,3000],\n",
    "               [10000,20000,30000]])\n",
    "\n",
    "arr[0:,0:]"
   ]
  },
  {
   "cell_type": "code",
   "execution_count": null,
   "id": "f2a6d48b",
   "metadata": {},
   "outputs": [
    {
     "data": {
      "text/plain": [
       "array([300, 400])"
      ]
     },
     "execution_count": 30,
     "metadata": {},
     "output_type": "execute_result"
    }
   ],
   "source": [
    "arr = np.array([100,200,300,400])\n",
    "\n",
    "result = arr[arr >= 300]\n",
    "result"
   ]
  },
  {
   "cell_type": "code",
   "execution_count": null,
   "id": "a19e133d",
   "metadata": {},
   "outputs": [
    {
     "data": {
      "text/plain": [
       "array([], dtype=int64)"
      ]
     },
     "execution_count": 31,
     "metadata": {},
     "output_type": "execute_result"
    }
   ],
   "source": [
    "arr = np.array([100,200,300,400])\n",
    "\n",
    "result = arr[arr >= 1000]\n",
    "result"
   ]
  },
  {
   "cell_type": "code",
   "execution_count": null,
   "id": "9e686d48",
   "metadata": {},
   "outputs": [
    {
     "data": {
      "text/plain": [
       "array([100, 200,   0,   0])"
      ]
     },
     "execution_count": 32,
     "metadata": {},
     "output_type": "execute_result"
    }
   ],
   "source": [
    "arr = np.array([100,200,300,400])\n",
    "\n",
    "result = np.where(arr <= 200,arr,0)\n",
    "result"
   ]
  },
  {
   "cell_type": "code",
   "execution_count": null,
   "id": "ea1d7e56",
   "metadata": {},
   "outputs": [
    {
     "data": {
      "text/plain": [
       "array([0, 0, 0, 0])"
      ]
     },
     "execution_count": 33,
     "metadata": {},
     "output_type": "execute_result"
    }
   ],
   "source": [
    "arr = np.array([100,200,300,400])\n",
    "\n",
    "result = np.where(arr >= 1000,arr,0)\n",
    "result"
   ]
  },
  {
   "cell_type": "code",
   "execution_count": null,
   "id": "91008f71",
   "metadata": {},
   "outputs": [
    {
     "data": {
      "text/plain": [
       "array([ 100,  200,  300,  400, 1000, 2000, 3000, 4000])"
      ]
     },
     "execution_count": 34,
     "metadata": {},
     "output_type": "execute_result"
    }
   ],
   "source": [
    "arr1 = np.array([[100,200],[300,400]])\n",
    "arr2 = np.array([[1000,2000],[3000,4000]])\n",
    "\n",
    "arr = np.append(arr1,arr2)\n",
    "arr"
   ]
  },
  {
   "cell_type": "code",
   "execution_count": null,
   "id": "8cf6cc0c",
   "metadata": {},
   "outputs": [
    {
     "data": {
      "text/plain": [
       "array([[ 100,  200],\n",
       "       [ 300,  400],\n",
       "       [1000, 2000],\n",
       "       [3000, 4000]])"
      ]
     },
     "execution_count": 35,
     "metadata": {},
     "output_type": "execute_result"
    }
   ],
   "source": [
    "arr1 = np.array([[100,200],[300,400]])\n",
    "arr2 = np.array([[1000,2000],[3000,4000]])\n",
    "\n",
    "arr = np.append(arr1,arr2,axis=0)\n",
    "arr"
   ]
  },
  {
   "cell_type": "code",
   "execution_count": null,
   "id": "46effd71",
   "metadata": {},
   "outputs": [
    {
     "data": {
      "text/plain": [
       "array([[ 100,  200, 1000, 2000],\n",
       "       [ 300,  400, 3000, 4000]])"
      ]
     },
     "execution_count": 36,
     "metadata": {},
     "output_type": "execute_result"
    }
   ],
   "source": [
    "arr1 = np.array([[100,200],[300,400]])\n",
    "arr2 = np.array([[1000,2000],[3000,4000]])\n",
    "\n",
    "arr = np.append(arr1,arr2,axis=1)\n",
    "arr"
   ]
  },
  {
   "cell_type": "code",
   "execution_count": null,
   "id": "4572791c",
   "metadata": {},
   "outputs": [
    {
     "name": "stdout",
     "output_type": "stream",
     "text": [
      "     0    1    2\n",
      "0  101  202  303\n",
      "1  100  200  300\n",
      "2  110  220  330\n",
      "3  111  222  333\n"
     ]
    }
   ],
   "source": [
    "arr = np.array([[101,202,303],\n",
    "               [100,200,300],\n",
    "               [110,220,330],\n",
    "               [111,222,333]])\n",
    "\n",
    "print(pd.DataFrame(arr))"
   ]
  },
  {
   "cell_type": "code",
   "execution_count": null,
   "id": "edb11998",
   "metadata": {},
   "outputs": [
    {
     "data": {
      "text/html": [
       "<div>\n",
       "<style scoped>\n",
       "    .dataframe tbody tr th:only-of-type {\n",
       "        vertical-align: middle;\n",
       "    }\n",
       "\n",
       "    .dataframe tbody tr th {\n",
       "        vertical-align: top;\n",
       "    }\n",
       "\n",
       "    .dataframe thead th {\n",
       "        text-align: right;\n",
       "    }\n",
       "</style>\n",
       "<table border=\"1\" class=\"dataframe\">\n",
       "  <thead>\n",
       "    <tr style=\"text-align: right;\">\n",
       "      <th></th>\n",
       "      <th>name</th>\n",
       "    </tr>\n",
       "  </thead>\n",
       "  <tbody>\n",
       "    <tr>\n",
       "      <th>0</th>\n",
       "      <td>James</td>\n",
       "    </tr>\n",
       "    <tr>\n",
       "      <th>1</th>\n",
       "      <td>Katie</td>\n",
       "    </tr>\n",
       "    <tr>\n",
       "      <th>2</th>\n",
       "      <td>Marcus</td>\n",
       "    </tr>\n",
       "  </tbody>\n",
       "</table>\n",
       "</div>"
      ],
      "text/plain": [
       "     name\n",
       "0   James\n",
       "1   Katie\n",
       "2  Marcus"
      ]
     },
     "execution_count": 38,
     "metadata": {},
     "output_type": "execute_result"
    }
   ],
   "source": [
    "data = {'name': ['James','Katie','Marcus'],\n",
    "        'city': ['New York','Bangkok','Paris']}\n",
    "df = pd.DataFrame(data)\n",
    "result = df.drop(columns='city')\n",
    "result\n",
    "#df"
   ]
  },
  {
   "cell_type": "code",
   "execution_count": null,
   "id": "1d80ae8b",
   "metadata": {},
   "outputs": [
    {
     "data": {
      "text/html": [
       "<div>\n",
       "<style scoped>\n",
       "    .dataframe tbody tr th:only-of-type {\n",
       "        vertical-align: middle;\n",
       "    }\n",
       "\n",
       "    .dataframe tbody tr th {\n",
       "        vertical-align: top;\n",
       "    }\n",
       "\n",
       "    .dataframe thead th {\n",
       "        text-align: right;\n",
       "    }\n",
       "</style>\n",
       "<table border=\"1\" class=\"dataframe\">\n",
       "  <thead>\n",
       "    <tr style=\"text-align: right;\">\n",
       "      <th></th>\n",
       "      <th>name</th>\n",
       "    </tr>\n",
       "  </thead>\n",
       "  <tbody>\n",
       "    <tr>\n",
       "      <th>0</th>\n",
       "      <td>James</td>\n",
       "    </tr>\n",
       "    <tr>\n",
       "      <th>1</th>\n",
       "      <td>Katie</td>\n",
       "    </tr>\n",
       "    <tr>\n",
       "      <th>2</th>\n",
       "      <td>Marcus</td>\n",
       "    </tr>\n",
       "  </tbody>\n",
       "</table>\n",
       "</div>"
      ],
      "text/plain": [
       "     name\n",
       "0   James\n",
       "1   Katie\n",
       "2  Marcus"
      ]
     },
     "execution_count": 39,
     "metadata": {},
     "output_type": "execute_result"
    }
   ],
   "source": [
    "data = {'name': ['James','Katie','Marcus'],\n",
    "        'city': ['New York','Bangkok','Paris'],\n",
    "        'code': [10500,30045,48057]}\n",
    "\n",
    "df = pd.DataFrame(data)\n",
    "result = df.drop(columns=['city','code'])\n",
    "result"
   ]
  },
  {
   "cell_type": "code",
   "execution_count": null,
   "id": "ca8620c0",
   "metadata": {},
   "outputs": [
    {
     "data": {
      "text/html": [
       "<div>\n",
       "<style scoped>\n",
       "    .dataframe tbody tr th:only-of-type {\n",
       "        vertical-align: middle;\n",
       "    }\n",
       "\n",
       "    .dataframe tbody tr th {\n",
       "        vertical-align: top;\n",
       "    }\n",
       "\n",
       "    .dataframe thead th {\n",
       "        text-align: right;\n",
       "    }\n",
       "</style>\n",
       "<table border=\"1\" class=\"dataframe\">\n",
       "  <thead>\n",
       "    <tr style=\"text-align: right;\">\n",
       "      <th></th>\n",
       "      <th>name</th>\n",
       "      <th>city</th>\n",
       "      <th>code</th>\n",
       "    </tr>\n",
       "  </thead>\n",
       "  <tbody>\n",
       "    <tr>\n",
       "      <th>0</th>\n",
       "      <td>James</td>\n",
       "      <td>New York</td>\n",
       "      <td>10500</td>\n",
       "    </tr>\n",
       "    <tr>\n",
       "      <th>1</th>\n",
       "      <td>Katie</td>\n",
       "      <td>Bangkok</td>\n",
       "      <td>30045</td>\n",
       "    </tr>\n",
       "  </tbody>\n",
       "</table>\n",
       "</div>"
      ],
      "text/plain": [
       "    name      city   code\n",
       "0  James  New York  10500\n",
       "1  Katie   Bangkok  30045"
      ]
     },
     "execution_count": 40,
     "metadata": {},
     "output_type": "execute_result"
    }
   ],
   "source": [
    "data = {'name': ['James','Katie','Marcus'],\n",
    "        'city': ['New York','Bangkok','Paris'],\n",
    "        'code': [10500,30045,48057]}\n",
    "\n",
    "df = pd.DataFrame(data)\n",
    "result = df.drop(index=[2,2])\n",
    "result"
   ]
  },
  {
   "cell_type": "code",
   "execution_count": null,
   "id": "cfe88915",
   "metadata": {},
   "outputs": [
    {
     "data": {
      "text/html": [
       "<div>\n",
       "<style scoped>\n",
       "    .dataframe tbody tr th:only-of-type {\n",
       "        vertical-align: middle;\n",
       "    }\n",
       "\n",
       "    .dataframe tbody tr th {\n",
       "        vertical-align: top;\n",
       "    }\n",
       "\n",
       "    .dataframe thead th {\n",
       "        text-align: right;\n",
       "    }\n",
       "</style>\n",
       "<table border=\"1\" class=\"dataframe\">\n",
       "  <thead>\n",
       "    <tr style=\"text-align: right;\">\n",
       "      <th></th>\n",
       "      <th>a</th>\n",
       "    </tr>\n",
       "  </thead>\n",
       "  <tbody>\n",
       "    <tr>\n",
       "      <th>8</th>\n",
       "      <td>4</td>\n",
       "    </tr>\n",
       "    <tr>\n",
       "      <th>9</th>\n",
       "      <td>3</td>\n",
       "    </tr>\n",
       "    <tr>\n",
       "      <th>10</th>\n",
       "      <td>5</td>\n",
       "    </tr>\n",
       "    <tr>\n",
       "      <th>11</th>\n",
       "      <td>1</td>\n",
       "    </tr>\n",
       "    <tr>\n",
       "      <th>12</th>\n",
       "      <td>2</td>\n",
       "    </tr>\n",
       "  </tbody>\n",
       "</table>\n",
       "</div>"
      ],
      "text/plain": [
       "    a\n",
       "8   4\n",
       "9   3\n",
       "10  5\n",
       "11  1\n",
       "12  2"
      ]
     },
     "execution_count": 41,
     "metadata": {},
     "output_type": "execute_result"
    }
   ],
   "source": [
    "datas = {\n",
    "    'a':[1,2,2,3,4,2,1,4,4,3,5,1,2]\n",
    "    }\n",
    "\n",
    "df = pd.DataFrame(datas)\n",
    "#result = df.drop_duplicates()\n",
    "result = df.drop_duplicates(keep='last')\n",
    "result"
   ]
  },
  {
   "cell_type": "code",
   "execution_count": null,
   "id": "88b44561",
   "metadata": {},
   "outputs": [
    {
     "data": {
      "text/html": [
       "<div>\n",
       "<style scoped>\n",
       "    .dataframe tbody tr th:only-of-type {\n",
       "        vertical-align: middle;\n",
       "    }\n",
       "\n",
       "    .dataframe tbody tr th {\n",
       "        vertical-align: top;\n",
       "    }\n",
       "\n",
       "    .dataframe thead th {\n",
       "        text-align: right;\n",
       "    }\n",
       "</style>\n",
       "<table border=\"1\" class=\"dataframe\">\n",
       "  <thead>\n",
       "    <tr style=\"text-align: right;\">\n",
       "      <th></th>\n",
       "      <th>ชื่อ</th>\n",
       "      <th>ส่วนสูง</th>\n",
       "      <th>รายได้</th>\n",
       "    </tr>\n",
       "  </thead>\n",
       "  <tbody>\n",
       "    <tr>\n",
       "      <th>0</th>\n",
       "      <td>Max</td>\n",
       "      <td>185</td>\n",
       "      <td>27000</td>\n",
       "    </tr>\n",
       "    <tr>\n",
       "      <th>1</th>\n",
       "      <td>Reece</td>\n",
       "      <td>190</td>\n",
       "      <td>90675</td>\n",
       "    </tr>\n",
       "    <tr>\n",
       "      <th>2</th>\n",
       "      <td>Joe</td>\n",
       "      <td>174</td>\n",
       "      <td>23456</td>\n",
       "    </tr>\n",
       "    <tr>\n",
       "      <th>3</th>\n",
       "      <td>Lee</td>\n",
       "      <td>185</td>\n",
       "      <td>75000</td>\n",
       "    </tr>\n",
       "  </tbody>\n",
       "</table>\n",
       "</div>"
      ],
      "text/plain": [
       "    ชื่อ  ส่วนสูง  รายได้\n",
       "0    Max      185   27000\n",
       "1  Reece      190   90675\n",
       "2    Joe      174   23456\n",
       "3    Lee      185   75000"
      ]
     },
     "execution_count": 42,
     "metadata": {},
     "output_type": "execute_result"
    }
   ],
   "source": [
    "data = [\n",
    "    ['Max',185,27000],['Reece',190,90675],['Joe',174,23456],['Lee',185,75000]\n",
    "]\n",
    "\n",
    "colname = ['name','height','salary']\n",
    "df1 = pd.DataFrame(data, columns=colname)\n",
    "df2 = df1.rename(columns={\n",
    "    'name':'ชื่อ',\n",
    "    'height':'ส่วนสูง'\n",
    "    ,'salary':'รายได้'})\n",
    "\n",
    "df1\n",
    "df2"
   ]
  },
  {
   "cell_type": "code",
   "execution_count": null,
   "id": "e69d8de4",
   "metadata": {},
   "outputs": [
    {
     "data": {
      "text/html": [
       "<div>\n",
       "<style scoped>\n",
       "    .dataframe tbody tr th:only-of-type {\n",
       "        vertical-align: middle;\n",
       "    }\n",
       "\n",
       "    .dataframe tbody tr th {\n",
       "        vertical-align: top;\n",
       "    }\n",
       "\n",
       "    .dataframe thead th {\n",
       "        text-align: right;\n",
       "    }\n",
       "</style>\n",
       "<table border=\"1\" class=\"dataframe\">\n",
       "  <thead>\n",
       "    <tr style=\"text-align: right;\">\n",
       "      <th></th>\n",
       "      <th>0</th>\n",
       "      <th>1</th>\n",
       "      <th>2</th>\n",
       "    </tr>\n",
       "  </thead>\n",
       "  <tbody>\n",
       "    <tr>\n",
       "      <th>0</th>\n",
       "      <td>103</td>\n",
       "      <td>68</td>\n",
       "      <td>63</td>\n",
       "    </tr>\n",
       "    <tr>\n",
       "      <th>1</th>\n",
       "      <td>87</td>\n",
       "      <td>15</td>\n",
       "      <td>98</td>\n",
       "    </tr>\n",
       "    <tr>\n",
       "      <th>2</th>\n",
       "      <td>97</td>\n",
       "      <td>19</td>\n",
       "      <td>104</td>\n",
       "    </tr>\n",
       "  </tbody>\n",
       "</table>\n",
       "</div>"
      ],
      "text/plain": [
       "     0   1    2\n",
       "0  103  68   63\n",
       "1   87  15   98\n",
       "2   97  19  104"
      ]
     },
     "execution_count": 43,
     "metadata": {},
     "output_type": "execute_result"
    }
   ],
   "source": [
    "arr = np.array([[98, 63, 58],\n",
    "                [82, 10, 93],\n",
    "                [92, 14, 99]])\n",
    "df = pd.DataFrame(arr)\n",
    "\n",
    "def ass(x):\n",
    "    return x+5\n",
    "\n",
    "result = df.apply(ass)\n",
    "result"
   ]
  },
  {
   "cell_type": "code",
   "execution_count": null,
   "id": "79fadc46",
   "metadata": {},
   "outputs": [
    {
     "data": {
      "text/html": [
       "<div>\n",
       "<style scoped>\n",
       "    .dataframe tbody tr th:only-of-type {\n",
       "        vertical-align: middle;\n",
       "    }\n",
       "\n",
       "    .dataframe tbody tr th {\n",
       "        vertical-align: top;\n",
       "    }\n",
       "\n",
       "    .dataframe thead th {\n",
       "        text-align: right;\n",
       "    }\n",
       "</style>\n",
       "<table border=\"1\" class=\"dataframe\">\n",
       "  <thead>\n",
       "    <tr style=\"text-align: right;\">\n",
       "      <th></th>\n",
       "      <th>0</th>\n",
       "      <th>1</th>\n",
       "      <th>2</th>\n",
       "    </tr>\n",
       "  </thead>\n",
       "  <tbody>\n",
       "    <tr>\n",
       "      <th>0</th>\n",
       "      <td>99</td>\n",
       "      <td>64</td>\n",
       "      <td>59</td>\n",
       "    </tr>\n",
       "    <tr>\n",
       "      <th>1</th>\n",
       "      <td>83</td>\n",
       "      <td>11</td>\n",
       "      <td>94</td>\n",
       "    </tr>\n",
       "    <tr>\n",
       "      <th>2</th>\n",
       "      <td>93</td>\n",
       "      <td>15</td>\n",
       "      <td>100</td>\n",
       "    </tr>\n",
       "  </tbody>\n",
       "</table>\n",
       "</div>"
      ],
      "text/plain": [
       "    0   1    2\n",
       "0  99  64   59\n",
       "1  83  11   94\n",
       "2  93  15  100"
      ]
     },
     "execution_count": 44,
     "metadata": {},
     "output_type": "execute_result"
    }
   ],
   "source": [
    "arr = np.array([[98, 63, 58],[82, 10, 93],[92, 14, 99]])\n",
    "df = pd.DataFrame(arr)\n",
    "\n",
    "result = df.apply(lambda x:x + 1)\n",
    "result"
   ]
  },
  {
   "cell_type": "code",
   "execution_count": null,
   "id": "52227d14",
   "metadata": {},
   "outputs": [
    {
     "name": "stdout",
     "output_type": "stream",
     "text": [
      "-----Gan X-----\n",
      "A     42\n",
      "B    184\n",
      "dtype: int64\n",
      "-----Gan Y-----\n",
      "0    125\n",
      "1    101\n",
      "dtype: int64\n"
     ]
    }
   ],
   "source": [
    "df = pd.DataFrame(\n",
    "    {\n",
    "        'A':[31, 11],\n",
    "        'B':[94, 90]\n",
    "    }\n",
    ")\n",
    "\n",
    "print(f'-----Gan X-----')\n",
    "result1 = df.apply(np.sum,axis=0)\n",
    "print(result1)\n",
    "print(f'-----Gan Y-----')\n",
    "result2 = df.apply(np.sum,axis=1)\n",
    "print(result2)"
   ]
  },
  {
   "cell_type": "code",
   "execution_count": null,
   "id": "7997739e",
   "metadata": {},
   "outputs": [
    {
     "name": "stderr",
     "output_type": "stream",
     "text": [
      "C:\\Users\\pepeb\\AppData\\Local\\Temp\\ipykernel_122276\\3217121449.py:8: FutureWarning: DataFrame.applymap has been deprecated. Use DataFrame.map instead.\n",
      "  results = df.applymap(math.sqrt)\n"
     ]
    },
    {
     "data": {
      "text/html": [
       "<div>\n",
       "<style scoped>\n",
       "    .dataframe tbody tr th:only-of-type {\n",
       "        vertical-align: middle;\n",
       "    }\n",
       "\n",
       "    .dataframe tbody tr th {\n",
       "        vertical-align: top;\n",
       "    }\n",
       "\n",
       "    .dataframe thead th {\n",
       "        text-align: right;\n",
       "    }\n",
       "</style>\n",
       "<table border=\"1\" class=\"dataframe\">\n",
       "  <thead>\n",
       "    <tr style=\"text-align: right;\">\n",
       "      <th></th>\n",
       "      <th>A</th>\n",
       "      <th>B</th>\n",
       "    </tr>\n",
       "  </thead>\n",
       "  <tbody>\n",
       "    <tr>\n",
       "      <th>0</th>\n",
       "      <td>5.0</td>\n",
       "      <td>6.0</td>\n",
       "    </tr>\n",
       "    <tr>\n",
       "      <th>1</th>\n",
       "      <td>9.0</td>\n",
       "      <td>21.0</td>\n",
       "    </tr>\n",
       "  </tbody>\n",
       "</table>\n",
       "</div>"
      ],
      "text/plain": [
       "     A     B\n",
       "0  5.0   6.0\n",
       "1  9.0  21.0"
      ]
     },
     "execution_count": 46,
     "metadata": {},
     "output_type": "execute_result"
    }
   ],
   "source": [
    "df = pd.DataFrame(\n",
    "    {\n",
    "        'A':[25, 81],\n",
    "        'B':[36, 441]\n",
    "    }\n",
    ")\n",
    "\n",
    "results = df.applymap(math.sqrt)\n",
    "results"
   ]
  },
  {
   "cell_type": "code",
   "execution_count": null,
   "id": "98fb3b1b",
   "metadata": {},
   "outputs": [
    {
     "name": "stdout",
     "output_type": "stream",
     "text": [
      "0    10\n",
      "1    83\n",
      "2    24\n",
      "3    90\n",
      "dtype: int64\n",
      "<class 'pandas.core.series.Series'>\n"
     ]
    }
   ],
   "source": [
    "info = [10, 83, 24, 90]\n",
    "ps = pd.Series(info)\n",
    "\n",
    "print(ps)\n",
    "print(type(ps))"
   ]
  },
  {
   "cell_type": "code",
   "execution_count": null,
   "id": "784c68c1",
   "metadata": {},
   "outputs": [
    {
     "name": "stdout",
     "output_type": "stream",
     "text": [
      "----------\n",
      "0    72\n",
      "1    46\n",
      "2    59\n",
      "3    23\n",
      "dtype: int64\n"
     ]
    }
   ],
   "source": [
    "data = [72, 46, 59, 23]\n",
    "ndata = np.array(data)\n",
    "ps = pd.Series(ndata)\n",
    "\n",
    "print('----------')\n",
    "print(ps)\n"
   ]
  },
  {
   "cell_type": "code",
   "execution_count": null,
   "id": "7bbb0c5c",
   "metadata": {},
   "outputs": [
    {
     "data": {
      "text/plain": [
       "จารุวรรณ    176\n",
       "สุชาติ      188\n",
       "สายใจ       181\n",
       "ประทีป      180\n",
       "dtype: int64"
      ]
     },
     "execution_count": 49,
     "metadata": {},
     "output_type": "execute_result"
    }
   ],
   "source": [
    "person = ['จารุวรรณ', 'สุชาติ', 'สายใจ', 'ประทีป']\n",
    "height = [176, 188, 181, 180]\n",
    "\n",
    "ps = pd.Series(height, index=person)\n",
    "\n",
    "ps"
   ]
  },
  {
   "cell_type": "code",
   "execution_count": null,
   "id": "5dedc33a",
   "metadata": {},
   "outputs": [
    {
     "data": {
      "text/plain": [
       "Anthony    155\n",
       "วินัย      200\n",
       "Emma       177\n",
       "Zoey       170\n",
       "dtype: int64"
      ]
     },
     "execution_count": 50,
     "metadata": {},
     "output_type": "execute_result"
    }
   ],
   "source": [
    "dic = {'Anthony':155, 'วินัย':200, 'Emma':177, 'Zoey':170}\n",
    "ps = pd.Series(dic)\n",
    "\n",
    "ps"
   ]
  },
  {
   "cell_type": "code",
   "execution_count": null,
   "id": "282e681b",
   "metadata": {},
   "outputs": [
    {
     "name": "stdout",
     "output_type": "stream",
     "text": [
      "155\n",
      "177\n",
      "170\n",
      "155\n",
      "200\n"
     ]
    },
    {
     "name": "stderr",
     "output_type": "stream",
     "text": [
      "C:\\Users\\pepeb\\AppData\\Local\\Temp\\ipykernel_122276\\3689025132.py:4: FutureWarning: Series.__getitem__ treating keys as positions is deprecated. In a future version, integer keys will always be treated as labels (consistent with DataFrame behavior). To access a value by position, use `ser.iloc[pos]`\n",
      "  print(ps[0])\n",
      "C:\\Users\\pepeb\\AppData\\Local\\Temp\\ipykernel_122276\\3689025132.py:5: FutureWarning: Series.__getitem__ treating keys as positions is deprecated. In a future version, integer keys will always be treated as labels (consistent with DataFrame behavior). To access a value by position, use `ser.iloc[pos]`\n",
      "  print(ps[-2])\n",
      "C:\\Users\\pepeb\\AppData\\Local\\Temp\\ipykernel_122276\\3689025132.py:6: FutureWarning: Series.__getitem__ treating keys as positions is deprecated. In a future version, integer keys will always be treated as labels (consistent with DataFrame behavior). To access a value by position, use `ser.iloc[pos]`\n",
      "  print(ps[3])\n"
     ]
    }
   ],
   "source": [
    "dic = {'Anthony':155, 'วินัย':200, 'Emma':177, 'Zoey':170}\n",
    "ps = pd.Series(dic)\n",
    "\n",
    "print(ps[0])\n",
    "print(ps[-2])\n",
    "print(ps[3])\n",
    "print(ps['Anthony'])\n",
    "print(ps['วินัย'])"
   ]
  },
  {
   "cell_type": "code",
   "execution_count": null,
   "id": "30291b9f",
   "metadata": {},
   "outputs": [
    {
     "name": "stdout",
     "output_type": "stream",
     "text": [
      "0    474\n",
      "1    366\n",
      "2    825\n",
      "3    166\n",
      "4    487\n",
      "5    713\n",
      "6    505\n",
      "dtype: int64\n",
      "1    366\n",
      "2    825\n",
      "3    166\n",
      "dtype: int64\n",
      "2    825\n",
      "3    166\n",
      "4    487\n",
      "5    713\n",
      "6    505\n",
      "dtype: int64\n",
      "0    474\n",
      "1    366\n",
      "2    825\n",
      "3    166\n",
      "dtype: int64\n"
     ]
    }
   ],
   "source": [
    "data = [474, 366, 825, 166, 487, 713, 505]\n",
    "ps = pd.Series(data)\n",
    "\n",
    "print(ps[:])\n",
    "print(ps[1:4])\n",
    "print(ps[2:])\n",
    "print(ps[:4])"
   ]
  },
  {
   "cell_type": "code",
   "execution_count": null,
   "id": "8219f51b",
   "metadata": {},
   "outputs": [
    {
     "name": "stdout",
     "output_type": "stream",
     "text": [
      "<class 'pandas.core.frame.DataFrame'>\n"
     ]
    },
    {
     "data": {
      "text/html": [
       "<div>\n",
       "<style scoped>\n",
       "    .dataframe tbody tr th:only-of-type {\n",
       "        vertical-align: middle;\n",
       "    }\n",
       "\n",
       "    .dataframe tbody tr th {\n",
       "        vertical-align: top;\n",
       "    }\n",
       "\n",
       "    .dataframe thead th {\n",
       "        text-align: right;\n",
       "    }\n",
       "</style>\n",
       "<table border=\"1\" class=\"dataframe\">\n",
       "  <thead>\n",
       "    <tr style=\"text-align: right;\">\n",
       "      <th></th>\n",
       "      <th>0</th>\n",
       "    </tr>\n",
       "  </thead>\n",
       "  <tbody>\n",
       "    <tr>\n",
       "      <th>0</th>\n",
       "      <td>18</td>\n",
       "    </tr>\n",
       "    <tr>\n",
       "      <th>1</th>\n",
       "      <td>42</td>\n",
       "    </tr>\n",
       "    <tr>\n",
       "      <th>2</th>\n",
       "      <td>98</td>\n",
       "    </tr>\n",
       "    <tr>\n",
       "      <th>3</th>\n",
       "      <td>61</td>\n",
       "    </tr>\n",
       "    <tr>\n",
       "      <th>4</th>\n",
       "      <td>35</td>\n",
       "    </tr>\n",
       "    <tr>\n",
       "      <th>5</th>\n",
       "      <td>37</td>\n",
       "    </tr>\n",
       "  </tbody>\n",
       "</table>\n",
       "</div>"
      ],
      "text/plain": [
       "    0\n",
       "0  18\n",
       "1  42\n",
       "2  98\n",
       "3  61\n",
       "4  35\n",
       "5  37"
      ]
     },
     "execution_count": 53,
     "metadata": {},
     "output_type": "execute_result"
    }
   ],
   "source": [
    "data = [18, 42, 98, 61, 35, 37]\n",
    "df = pd.DataFrame(data)\n",
    "\n",
    "print(type(df))\n",
    "df"
   ]
  },
  {
   "cell_type": "code",
   "execution_count": null,
   "id": "eb949edb",
   "metadata": {},
   "outputs": [
    {
     "data": {
      "text/html": [
       "<div>\n",
       "<style scoped>\n",
       "    .dataframe tbody tr th:only-of-type {\n",
       "        vertical-align: middle;\n",
       "    }\n",
       "\n",
       "    .dataframe tbody tr th {\n",
       "        vertical-align: top;\n",
       "    }\n",
       "\n",
       "    .dataframe thead th {\n",
       "        text-align: right;\n",
       "    }\n",
       "</style>\n",
       "<table border=\"1\" class=\"dataframe\">\n",
       "  <thead>\n",
       "    <tr style=\"text-align: right;\">\n",
       "      <th></th>\n",
       "      <th>income</th>\n",
       "    </tr>\n",
       "  </thead>\n",
       "  <tbody>\n",
       "    <tr>\n",
       "      <th>0</th>\n",
       "      <td>2</td>\n",
       "    </tr>\n",
       "    <tr>\n",
       "      <th>1</th>\n",
       "      <td>50</td>\n",
       "    </tr>\n",
       "    <tr>\n",
       "      <th>2</th>\n",
       "      <td>47</td>\n",
       "    </tr>\n",
       "    <tr>\n",
       "      <th>3</th>\n",
       "      <td>82</td>\n",
       "    </tr>\n",
       "    <tr>\n",
       "      <th>4</th>\n",
       "      <td>32</td>\n",
       "    </tr>\n",
       "    <tr>\n",
       "      <th>5</th>\n",
       "      <td>12</td>\n",
       "    </tr>\n",
       "  </tbody>\n",
       "</table>\n",
       "</div>"
      ],
      "text/plain": [
       "   income\n",
       "0       2\n",
       "1      50\n",
       "2      47\n",
       "3      82\n",
       "4      32\n",
       "5      12"
      ]
     },
     "execution_count": 54,
     "metadata": {},
     "output_type": "execute_result"
    }
   ],
   "source": [
    "colsname = ['income']\n",
    "data = [2, 50, 47, 82, 32, 12]\n",
    "df = pd.DataFrame(data, columns=colsname)\n",
    "\n",
    "df"
   ]
  },
  {
   "cell_type": "code",
   "execution_count": null,
   "id": "88990777",
   "metadata": {},
   "outputs": [
    {
     "data": {
      "text/html": [
       "<div>\n",
       "<style scoped>\n",
       "    .dataframe tbody tr th:only-of-type {\n",
       "        vertical-align: middle;\n",
       "    }\n",
       "\n",
       "    .dataframe tbody tr th {\n",
       "        vertical-align: top;\n",
       "    }\n",
       "\n",
       "    .dataframe thead th {\n",
       "        text-align: right;\n",
       "    }\n",
       "</style>\n",
       "<table border=\"1\" class=\"dataframe\">\n",
       "  <thead>\n",
       "    <tr style=\"text-align: right;\">\n",
       "      <th></th>\n",
       "      <th>ชื่อ</th>\n",
       "      <th>ส่วนสูง</th>\n",
       "    </tr>\n",
       "  </thead>\n",
       "  <tbody>\n",
       "    <tr>\n",
       "      <th>0</th>\n",
       "      <td>วิเชียร</td>\n",
       "      <td>186</td>\n",
       "    </tr>\n",
       "    <tr>\n",
       "      <th>1</th>\n",
       "      <td>วีระ</td>\n",
       "      <td>196</td>\n",
       "    </tr>\n",
       "    <tr>\n",
       "      <th>2</th>\n",
       "      <td>ชุติมา</td>\n",
       "      <td>174</td>\n",
       "    </tr>\n",
       "    <tr>\n",
       "      <th>3</th>\n",
       "      <td>ประเสริฐ</td>\n",
       "      <td>167</td>\n",
       "    </tr>\n",
       "  </tbody>\n",
       "</table>\n",
       "</div>"
      ],
      "text/plain": [
       "       ชื่อ  ส่วนสูง\n",
       "0   วิเชียร      186\n",
       "1      วีระ      196\n",
       "2    ชุติมา      174\n",
       "3  ประเสริฐ      167"
      ]
     },
     "execution_count": 55,
     "metadata": {},
     "output_type": "execute_result"
    }
   ],
   "source": [
    "human = ['วิเชียร', 'วีระ', 'ชุติมา', 'ประเสริฐ']\n",
    "height = [186, 196, 174, 167]\n",
    "\n",
    "data = list(zip(human, height))\n",
    "\n",
    "colsname = ['ชื่อ','ส่วนสูง']\n",
    "df = pd.DataFrame(data, columns=colsname)\n",
    "\n",
    "df"
   ]
  },
  {
   "cell_type": "code",
   "execution_count": null,
   "id": "89cbd28f",
   "metadata": {},
   "outputs": [
    {
     "data": {
      "text/html": [
       "<div>\n",
       "<style scoped>\n",
       "    .dataframe tbody tr th:only-of-type {\n",
       "        vertical-align: middle;\n",
       "    }\n",
       "\n",
       "    .dataframe tbody tr th {\n",
       "        vertical-align: top;\n",
       "    }\n",
       "\n",
       "    .dataframe thead th {\n",
       "        text-align: right;\n",
       "    }\n",
       "</style>\n",
       "<table border=\"1\" class=\"dataframe\">\n",
       "  <thead>\n",
       "    <tr style=\"text-align: right;\">\n",
       "      <th></th>\n",
       "      <th>ชื่อ</th>\n",
       "      <th>ส่วนสูง</th>\n",
       "      <th>เงินเดือน</th>\n",
       "    </tr>\n",
       "  </thead>\n",
       "  <tbody>\n",
       "    <tr>\n",
       "      <th>0</th>\n",
       "      <td>Max</td>\n",
       "      <td>185</td>\n",
       "      <td>27000</td>\n",
       "    </tr>\n",
       "    <tr>\n",
       "      <th>1</th>\n",
       "      <td>Reece</td>\n",
       "      <td>190</td>\n",
       "      <td>90675</td>\n",
       "    </tr>\n",
       "    <tr>\n",
       "      <th>2</th>\n",
       "      <td>Joe</td>\n",
       "      <td>174</td>\n",
       "      <td>23456</td>\n",
       "    </tr>\n",
       "    <tr>\n",
       "      <th>3</th>\n",
       "      <td>Lee</td>\n",
       "      <td>185</td>\n",
       "      <td>75000</td>\n",
       "    </tr>\n",
       "  </tbody>\n",
       "</table>\n",
       "</div>"
      ],
      "text/plain": [
       "    ชื่อ  ส่วนสูง  เงินเดือน\n",
       "0    Max      185      27000\n",
       "1  Reece      190      90675\n",
       "2    Joe      174      23456\n",
       "3    Lee      185      75000"
      ]
     },
     "execution_count": 56,
     "metadata": {},
     "output_type": "execute_result"
    }
   ],
   "source": [
    "data = [\n",
    "    ['Max',185,27000],\n",
    "    ['Reece',190,90675],\n",
    "    ['Joe',174,23456],\n",
    "    ['Lee',185,75000]\n",
    "]\n",
    "\n",
    "colsname = ['ชื่อ','ส่วนสูง','เงินเดือน']\n",
    "df = pd.DataFrame(data, columns=colsname)\n",
    "\n",
    "df"
   ]
  },
  {
   "cell_type": "code",
   "execution_count": null,
   "id": "027d3f33",
   "metadata": {},
   "outputs": [
    {
     "data": {
      "text/html": [
       "<div>\n",
       "<style scoped>\n",
       "    .dataframe tbody tr th:only-of-type {\n",
       "        vertical-align: middle;\n",
       "    }\n",
       "\n",
       "    .dataframe tbody tr th {\n",
       "        vertical-align: top;\n",
       "    }\n",
       "\n",
       "    .dataframe thead th {\n",
       "        text-align: right;\n",
       "    }\n",
       "</style>\n",
       "<table border=\"1\" class=\"dataframe\">\n",
       "  <thead>\n",
       "    <tr style=\"text-align: right;\">\n",
       "      <th></th>\n",
       "      <th>name</th>\n",
       "      <th>height</th>\n",
       "      <th>salary</th>\n",
       "    </tr>\n",
       "  </thead>\n",
       "  <tbody>\n",
       "    <tr>\n",
       "      <th>A</th>\n",
       "      <td>Max</td>\n",
       "      <td>185</td>\n",
       "      <td>27000</td>\n",
       "    </tr>\n",
       "    <tr>\n",
       "      <th>B</th>\n",
       "      <td>Reece</td>\n",
       "      <td>190</td>\n",
       "      <td>90675</td>\n",
       "    </tr>\n",
       "    <tr>\n",
       "      <th>C</th>\n",
       "      <td>Joe</td>\n",
       "      <td>174</td>\n",
       "      <td>23456</td>\n",
       "    </tr>\n",
       "    <tr>\n",
       "      <th>D</th>\n",
       "      <td>Lee</td>\n",
       "      <td>185</td>\n",
       "      <td>75000</td>\n",
       "    </tr>\n",
       "  </tbody>\n",
       "</table>\n",
       "</div>"
      ],
      "text/plain": [
       "    name  height  salary\n",
       "A    Max     185   27000\n",
       "B  Reece     190   90675\n",
       "C    Joe     174   23456\n",
       "D    Lee     185   75000"
      ]
     },
     "execution_count": 57,
     "metadata": {},
     "output_type": "execute_result"
    }
   ],
   "source": [
    "data = [\n",
    "    ['Max',185,27000],\n",
    "    ['Reece',190,90675],\n",
    "    ['Joe',174,23456],\n",
    "    ['Lee',185,75000]\n",
    "]\n",
    "\n",
    "colsname = ['name','height','salary']\n",
    "df = pd.DataFrame(data, columns=colsname, index=['A','B','C','D'])\n",
    "\n",
    "df\n",
    "#df['height']['A']\n",
    "#df['name']['C']"
   ]
  },
  {
   "cell_type": "code",
   "execution_count": null,
   "id": "de3d8c06",
   "metadata": {},
   "outputs": [
    {
     "name": "stdout",
     "output_type": "stream",
     "text": [
      "    name  height  salary\n",
      "0    Max     185   27000\n",
      "1  Reece     190   90675\n",
      "2    Joe     174   23456\n",
      "3    Lee     185   75000\n",
      "(4, 3)\n"
     ]
    }
   ],
   "source": [
    "data = [\n",
    "    ['Max',185,27000],\n",
    "    ['Reece',190,90675],\n",
    "    ['Joe',174,23456],\n",
    "    ['Lee',185,75000]\n",
    "]\n",
    "\n",
    "colsname = ['name','height','salary']\n",
    "df = pd.DataFrame(data, columns=colsname)\n",
    "\n",
    "print(df)\n",
    "print(df.shape)"
   ]
  },
  {
   "cell_type": "code",
   "execution_count": null,
   "id": "f9a9f32b",
   "metadata": {},
   "outputs": [
    {
     "data": {
      "text/html": [
       "<div>\n",
       "<style scoped>\n",
       "    .dataframe tbody tr th:only-of-type {\n",
       "        vertical-align: middle;\n",
       "    }\n",
       "\n",
       "    .dataframe tbody tr th {\n",
       "        vertical-align: top;\n",
       "    }\n",
       "\n",
       "    .dataframe thead th {\n",
       "        text-align: right;\n",
       "    }\n",
       "</style>\n",
       "<table border=\"1\" class=\"dataframe\">\n",
       "  <thead>\n",
       "    <tr style=\"text-align: right;\">\n",
       "      <th></th>\n",
       "      <th>ชื่อ</th>\n",
       "      <th>ส่วนสูง</th>\n",
       "      <th>เงินเดือน</th>\n",
       "    </tr>\n",
       "  </thead>\n",
       "  <tbody>\n",
       "    <tr>\n",
       "      <th>a</th>\n",
       "      <td>อนันต์</td>\n",
       "      <td>178</td>\n",
       "      <td>50000</td>\n",
       "    </tr>\n",
       "    <tr>\n",
       "      <th>b</th>\n",
       "      <td>ไพโรจน์</td>\n",
       "      <td>153</td>\n",
       "      <td>55000</td>\n",
       "    </tr>\n",
       "    <tr>\n",
       "      <th>c</th>\n",
       "      <td>มัณฑนา</td>\n",
       "      <td>160</td>\n",
       "      <td>70000</td>\n",
       "    </tr>\n",
       "    <tr>\n",
       "      <th>d</th>\n",
       "      <td>พิเชษฐ์</td>\n",
       "      <td>188</td>\n",
       "      <td>90000</td>\n",
       "    </tr>\n",
       "  </tbody>\n",
       "</table>\n",
       "</div>"
      ],
      "text/plain": [
       "      ชื่อ  ส่วนสูง  เงินเดือน\n",
       "a   อนันต์      178      50000\n",
       "b  ไพโรจน์      153      55000\n",
       "c   มัณฑนา      160      70000\n",
       "d  พิเชษฐ์      188      90000"
      ]
     },
     "execution_count": 59,
     "metadata": {},
     "output_type": "execute_result"
    }
   ],
   "source": [
    "data = [\n",
    "    {'ชื่อ':'อนันต์','ส่วนสูง':178,'เงินเดือน':50000},\n",
    "    {'ชื่อ':'ไพโรจน์','ส่วนสูง':153,'เงินเดือน':55000},\n",
    "    {'ชื่อ':'มัณฑนา','ส่วนสูง':160,'เงินเดือน':70000},\n",
    "    {'ชื่อ':'พิเชษฐ์','ส่วนสูง':188,'เงินเดือน':90000}\n",
    "]\n",
    "\n",
    "df = pd.DataFrame(data, index=['a','b','c','d'])\n",
    "\n",
    "df"
   ]
  },
  {
   "cell_type": "code",
   "execution_count": null,
   "id": "303f5d1a",
   "metadata": {},
   "outputs": [
    {
     "data": {
      "text/html": [
       "<div>\n",
       "<style scoped>\n",
       "    .dataframe tbody tr th:only-of-type {\n",
       "        vertical-align: middle;\n",
       "    }\n",
       "\n",
       "    .dataframe tbody tr th {\n",
       "        vertical-align: top;\n",
       "    }\n",
       "\n",
       "    .dataframe thead th {\n",
       "        text-align: right;\n",
       "    }\n",
       "</style>\n",
       "<table border=\"1\" class=\"dataframe\">\n",
       "  <thead>\n",
       "    <tr style=\"text-align: right;\">\n",
       "      <th></th>\n",
       "      <th>ชื่อ</th>\n",
       "      <th>ส่วนสูง</th>\n",
       "      <th>อายุ</th>\n",
       "    </tr>\n",
       "  </thead>\n",
       "  <tbody>\n",
       "    <tr>\n",
       "      <th>0</th>\n",
       "      <td>พรชัย</td>\n",
       "      <td>196</td>\n",
       "      <td>24</td>\n",
       "    </tr>\n",
       "    <tr>\n",
       "      <th>1</th>\n",
       "      <td>นุจรี</td>\n",
       "      <td>159</td>\n",
       "      <td>27</td>\n",
       "    </tr>\n",
       "    <tr>\n",
       "      <th>2</th>\n",
       "      <td>นฤมล</td>\n",
       "      <td>176</td>\n",
       "      <td>81</td>\n",
       "    </tr>\n",
       "    <tr>\n",
       "      <th>3</th>\n",
       "      <td>พิมพ์ใจ</td>\n",
       "      <td>200</td>\n",
       "      <td>39</td>\n",
       "    </tr>\n",
       "  </tbody>\n",
       "</table>\n",
       "</div>"
      ],
      "text/plain": [
       "      ชื่อ  ส่วนสูง  อายุ\n",
       "0    พรชัย      196    24\n",
       "1    นุจรี      159    27\n",
       "2     นฤมล      176    81\n",
       "3  พิมพ์ใจ      200    39"
      ]
     },
     "execution_count": 60,
     "metadata": {},
     "output_type": "execute_result"
    }
   ],
   "source": [
    "person = ['พรชัย', 'นุจรี', 'นฤมล', 'พิมพ์ใจ']\n",
    "height = [196, 159, 176, 200]\n",
    "age = [24, 27, 81, 39]\n",
    "\n",
    "data = {\n",
    "\n",
    "    'ชื่อ' : person,\n",
    "    'ส่วนสูง' : height,\n",
    "    'อายุ' : age\n",
    "}\n",
    "\n",
    "df = pd.DataFrame(data)\n",
    "df"
   ]
  },
  {
   "cell_type": "code",
   "execution_count": null,
   "id": "98f87c36",
   "metadata": {},
   "outputs": [
    {
     "data": {
      "text/html": [
       "<div>\n",
       "<style scoped>\n",
       "    .dataframe tbody tr th:only-of-type {\n",
       "        vertical-align: middle;\n",
       "    }\n",
       "\n",
       "    .dataframe tbody tr th {\n",
       "        vertical-align: top;\n",
       "    }\n",
       "\n",
       "    .dataframe thead th {\n",
       "        text-align: right;\n",
       "    }\n",
       "</style>\n",
       "<table border=\"1\" class=\"dataframe\">\n",
       "  <thead>\n",
       "    <tr style=\"text-align: right;\">\n",
       "      <th></th>\n",
       "      <th>name</th>\n",
       "      <th>height</th>\n",
       "      <th>salary</th>\n",
       "    </tr>\n",
       "  </thead>\n",
       "  <tbody>\n",
       "    <tr>\n",
       "      <th>0</th>\n",
       "      <td>Max</td>\n",
       "      <td>185</td>\n",
       "      <td>27000</td>\n",
       "    </tr>\n",
       "    <tr>\n",
       "      <th>1</th>\n",
       "      <td>Reece</td>\n",
       "      <td>190</td>\n",
       "      <td>90675</td>\n",
       "    </tr>\n",
       "    <tr>\n",
       "      <th>2</th>\n",
       "      <td>Joe</td>\n",
       "      <td>174</td>\n",
       "      <td>23456</td>\n",
       "    </tr>\n",
       "    <tr>\n",
       "      <th>3</th>\n",
       "      <td>Lee</td>\n",
       "      <td>185</td>\n",
       "      <td>75000</td>\n",
       "    </tr>\n",
       "    <tr>\n",
       "      <th>4</th>\n",
       "      <td>James</td>\n",
       "      <td>187</td>\n",
       "      <td>47850</td>\n",
       "    </tr>\n",
       "    <tr>\n",
       "      <th>5</th>\n",
       "      <td>Leonardo</td>\n",
       "      <td>173</td>\n",
       "      <td>76000</td>\n",
       "    </tr>\n",
       "  </tbody>\n",
       "</table>\n",
       "</div>"
      ],
      "text/plain": [
       "       name  height  salary\n",
       "0       Max     185   27000\n",
       "1     Reece     190   90675\n",
       "2       Joe     174   23456\n",
       "3       Lee     185   75000\n",
       "4     James     187   47850\n",
       "5  Leonardo     173   76000"
      ]
     },
     "execution_count": 61,
     "metadata": {},
     "output_type": "execute_result"
    }
   ],
   "source": [
    "import pandas as pd\n",
    "\n",
    "data1 = [\n",
    "    ['Max',185,27000],\n",
    "    ['Reece',190,90675],\n",
    "    ['Joe',174,23456],\n",
    "    ['Lee',185,75000]\n",
    "]\n",
    "\n",
    "data2 = [\n",
    "    ['James',187,47850],\n",
    "    ['Leonardo',173,76000]\n",
    "]\n",
    "\n",
    "colname = ['name','height','salary']\n",
    "df1 = pd.DataFrame(data1, columns=colname)\n",
    "df2 = pd.DataFrame(data2, columns=colname)\n",
    "\n",
    "df = pd.concat([df1,df2], ignore_index=True)\n",
    "df"
   ]
  },
  {
   "cell_type": "code",
   "execution_count": null,
   "id": "d0fe7f4b",
   "metadata": {},
   "outputs": [
    {
     "data": {
      "text/html": [
       "<div>\n",
       "<style scoped>\n",
       "    .dataframe tbody tr th:only-of-type {\n",
       "        vertical-align: middle;\n",
       "    }\n",
       "\n",
       "    .dataframe tbody tr th {\n",
       "        vertical-align: top;\n",
       "    }\n",
       "\n",
       "    .dataframe thead th {\n",
       "        text-align: right;\n",
       "    }\n",
       "</style>\n",
       "<table border=\"1\" class=\"dataframe\">\n",
       "  <thead>\n",
       "    <tr style=\"text-align: right;\">\n",
       "      <th></th>\n",
       "      <th>name</th>\n",
       "      <th>height</th>\n",
       "      <th>salary</th>\n",
       "      <th>city</th>\n",
       "    </tr>\n",
       "  </thead>\n",
       "  <tbody>\n",
       "    <tr>\n",
       "      <th>0</th>\n",
       "      <td>Max</td>\n",
       "      <td>185</td>\n",
       "      <td>27000</td>\n",
       "      <td>NaN</td>\n",
       "    </tr>\n",
       "    <tr>\n",
       "      <th>1</th>\n",
       "      <td>Reece</td>\n",
       "      <td>190</td>\n",
       "      <td>90675</td>\n",
       "      <td>NaN</td>\n",
       "    </tr>\n",
       "    <tr>\n",
       "      <th>2</th>\n",
       "      <td>Joe</td>\n",
       "      <td>174</td>\n",
       "      <td>23456</td>\n",
       "      <td>NaN</td>\n",
       "    </tr>\n",
       "    <tr>\n",
       "      <th>3</th>\n",
       "      <td>Lee</td>\n",
       "      <td>185</td>\n",
       "      <td>75000</td>\n",
       "      <td>NaN</td>\n",
       "    </tr>\n",
       "    <tr>\n",
       "      <th>4</th>\n",
       "      <td>James</td>\n",
       "      <td>187</td>\n",
       "      <td>47850</td>\n",
       "      <td>LA</td>\n",
       "    </tr>\n",
       "    <tr>\n",
       "      <th>5</th>\n",
       "      <td>Leonardo</td>\n",
       "      <td>173</td>\n",
       "      <td>76000</td>\n",
       "      <td>SF</td>\n",
       "    </tr>\n",
       "  </tbody>\n",
       "</table>\n",
       "</div>"
      ],
      "text/plain": [
       "       name  height  salary city\n",
       "0       Max     185   27000  NaN\n",
       "1     Reece     190   90675  NaN\n",
       "2       Joe     174   23456  NaN\n",
       "3       Lee     185   75000  NaN\n",
       "4     James     187   47850   LA\n",
       "5  Leonardo     173   76000   SF"
      ]
     },
     "execution_count": 62,
     "metadata": {},
     "output_type": "execute_result"
    }
   ],
   "source": [
    "data1 = [\n",
    "    ['Max',185,27000],\n",
    "    ['Reece',190,90675],\n",
    "    ['Joe',174,23456],\n",
    "    ['Lee',185,75000]\n",
    "]\n",
    "\n",
    "data2 = [\n",
    "    ['James',187,47850,'LA'],\n",
    "    ['Leonardo',173,76000,'SF']\n",
    "]\n",
    "\n",
    "colname1 = ['name','height','salary']\n",
    "colname2 = ['name','height','salary','city']\n",
    "df1 = pd.DataFrame(data1, columns=colname1)\n",
    "df2 = pd.DataFrame(data2, columns=colname2)\n",
    "\n",
    "df = pd.concat([df1,df2],sort=False,ignore_index=True)\n",
    "df"
   ]
  },
  {
   "cell_type": "code",
   "execution_count": null,
   "id": "66f0702b",
   "metadata": {},
   "outputs": [
    {
     "data": {
      "text/html": [
       "<div>\n",
       "<style scoped>\n",
       "    .dataframe tbody tr th:only-of-type {\n",
       "        vertical-align: middle;\n",
       "    }\n",
       "\n",
       "    .dataframe tbody tr th {\n",
       "        vertical-align: top;\n",
       "    }\n",
       "\n",
       "    .dataframe thead th {\n",
       "        text-align: right;\n",
       "    }\n",
       "</style>\n",
       "<table border=\"1\" class=\"dataframe\">\n",
       "  <thead>\n",
       "    <tr style=\"text-align: right;\">\n",
       "      <th></th>\n",
       "      <th>name</th>\n",
       "      <th>height</th>\n",
       "      <th>salary</th>\n",
       "    </tr>\n",
       "  </thead>\n",
       "  <tbody>\n",
       "    <tr>\n",
       "      <th>1</th>\n",
       "      <td>Reece</td>\n",
       "      <td>190</td>\n",
       "      <td>90675</td>\n",
       "    </tr>\n",
       "    <tr>\n",
       "      <th>3</th>\n",
       "      <td>Lee</td>\n",
       "      <td>185</td>\n",
       "      <td>75000</td>\n",
       "    </tr>\n",
       "  </tbody>\n",
       "</table>\n",
       "</div>"
      ],
      "text/plain": [
       "    name  height  salary\n",
       "1  Reece     190   90675\n",
       "3    Lee     185   75000"
      ]
     },
     "execution_count": 63,
     "metadata": {},
     "output_type": "execute_result"
    }
   ],
   "source": [
    "data = [\n",
    "    ['Max',185,27000],\n",
    "    ['Reece',190,90675],\n",
    "    ['Joe',174,23456],\n",
    "    ['Lee',185,75000]\n",
    "]\n",
    "\n",
    "colsname = ['name','height','salary']\n",
    "df = pd.DataFrame(data, columns=colsname)\n",
    "\n",
    "result = df.loc[0]\n",
    "result1 = df.loc[[0,3]]\n",
    "result2 = df.loc[0,'name']\n",
    "result3 = df.loc[0:2]\n",
    "result4 = df.loc[0:2, 'name']\n",
    "result5 = df.loc[[True,True,False,False]]\n",
    "result6 = df.loc[df['salary'] >= 30000]\n",
    "\n",
    "result6"
   ]
  },
  {
   "cell_type": "code",
   "execution_count": null,
   "id": "c3d7af63",
   "metadata": {},
   "outputs": [
    {
     "data": {
      "text/html": [
       "<div>\n",
       "<style scoped>\n",
       "    .dataframe tbody tr th:only-of-type {\n",
       "        vertical-align: middle;\n",
       "    }\n",
       "\n",
       "    .dataframe tbody tr th {\n",
       "        vertical-align: top;\n",
       "    }\n",
       "\n",
       "    .dataframe thead th {\n",
       "        text-align: right;\n",
       "    }\n",
       "</style>\n",
       "<table border=\"1\" class=\"dataframe\">\n",
       "  <thead>\n",
       "    <tr style=\"text-align: right;\">\n",
       "      <th></th>\n",
       "      <th>salary</th>\n",
       "    </tr>\n",
       "    <tr>\n",
       "      <th>gender</th>\n",
       "      <th></th>\n",
       "    </tr>\n",
       "  </thead>\n",
       "  <tbody>\n",
       "    <tr>\n",
       "      <th>Female</th>\n",
       "      <td>130000</td>\n",
       "    </tr>\n",
       "    <tr>\n",
       "      <th>Male</th>\n",
       "      <td>145456</td>\n",
       "    </tr>\n",
       "  </tbody>\n",
       "</table>\n",
       "</div>"
      ],
      "text/plain": [
       "        salary\n",
       "gender        \n",
       "Female  130000\n",
       "Male    145456"
      ]
     },
     "execution_count": 64,
     "metadata": {},
     "output_type": "execute_result"
    }
   ],
   "source": [
    "data = [\n",
    "    ['Max', 185, 27000, 'Male'],\n",
    "    ['Anna', 165, 31000, 'Female'],\n",
    "    ['Joe', 174, 23456, 'Male'],\n",
    "    ['Lily', 160, 29000, 'Female'],\n",
    "    ['Ben', 180, 45000, 'Male'],\n",
    "    ['Sara', 170, 34000, 'Female'],\n",
    "    ['Tom', 182, 50000, 'Male'],\n",
    "    ['Nina', 168, 36000, 'Female']]\n",
    "\n",
    "colname = ['name','height','salary','gender']\n",
    "df = pd.DataFrame(data, columns=colname)\n",
    "\n",
    "df_group = df.groupby(['gender'])[['gender']].count()\n",
    "df_group1 = df.groupby(['gender'])[['salary']].sum()\n",
    "\n",
    "df_group1"
   ]
  },
  {
   "cell_type": "code",
   "execution_count": null,
   "id": "702ef5df",
   "metadata": {},
   "outputs": [
    {
     "data": {
      "text/html": [
       "<div>\n",
       "<style scoped>\n",
       "    .dataframe tbody tr th:only-of-type {\n",
       "        vertical-align: middle;\n",
       "    }\n",
       "\n",
       "    .dataframe tbody tr th {\n",
       "        vertical-align: top;\n",
       "    }\n",
       "\n",
       "    .dataframe thead th {\n",
       "        text-align: right;\n",
       "    }\n",
       "</style>\n",
       "<table border=\"1\" class=\"dataframe\">\n",
       "  <thead>\n",
       "    <tr style=\"text-align: right;\">\n",
       "      <th></th>\n",
       "      <th>ID</th>\n",
       "      <th>Name</th>\n",
       "      <th>Salary</th>\n",
       "      <th>Age</th>\n",
       "    </tr>\n",
       "  </thead>\n",
       "  <tbody>\n",
       "    <tr>\n",
       "      <th>0</th>\n",
       "      <td>100</td>\n",
       "      <td>วิเชียร</td>\n",
       "      <td>20000</td>\n",
       "      <td>35.0</td>\n",
       "    </tr>\n",
       "    <tr>\n",
       "      <th>1</th>\n",
       "      <td>101</td>\n",
       "      <td>ชาญชัย</td>\n",
       "      <td>22000</td>\n",
       "      <td>36.0</td>\n",
       "    </tr>\n",
       "  </tbody>\n",
       "</table>\n",
       "</div>"
      ],
      "text/plain": [
       "    ID     Name Salary   Age\n",
       "0  100  วิเชียร  20000  35.0\n",
       "1  101   ชาญชัย  22000  36.0"
      ]
     },
     "execution_count": 65,
     "metadata": {},
     "output_type": "execute_result"
    }
   ],
   "source": [
    "data = {\n",
    "    'ID':[100,101,102,103],\n",
    "    'Name':['วิเชียร', 'ชาญชัย', 'จักรพงษ์', 'มัณฑนา'],\n",
    "    'Salary':[20000,22000,np.nan,pd.NaT],\n",
    "    'Age':[35,36,np.nan,None]\n",
    "}\n",
    "\n",
    "df = pd.DataFrame(data)\n",
    "#df_correct = df.dropna()\n",
    "#df_correct = df.dropna(inplace=True)\n",
    "#df_correct = df.dropna(thresh=2)\n",
    "df_correct = df.dropna(axis=0)\n",
    "\n",
    "df_correct"
   ]
  },
  {
   "cell_type": "code",
   "execution_count": null,
   "id": "218571e9",
   "metadata": {},
   "outputs": [
    {
     "data": {
      "text/plain": [
       "ID        0.00\n",
       "Name      0.00\n",
       "Salary    0.50\n",
       "Age       0.75\n",
       "dtype: float64"
      ]
     },
     "execution_count": 66,
     "metadata": {},
     "output_type": "execute_result"
    }
   ],
   "source": [
    "data = {\n",
    "    'ID':[100,101,102,103],\n",
    "    'Name':['วิเชียร', 'ชาญชัย', 'จักรพงษ์', 'มัณฑนา'],\n",
    "    'Salary':[20000,22000,np.nan,pd.NaT],\n",
    "    'Age':[35,pd.NaT,np.nan,None]\n",
    "}\n",
    "\n",
    "df = pd.DataFrame(data)\n",
    "result = df.isna().sum()\n",
    "result = df.isna().mean()\n",
    "\n",
    "result"
   ]
  },
  {
   "cell_type": "code",
   "execution_count": null,
   "id": "df1a8464",
   "metadata": {},
   "outputs": [
    {
     "data": {
      "text/html": [
       "<div>\n",
       "<style scoped>\n",
       "    .dataframe tbody tr th:only-of-type {\n",
       "        vertical-align: middle;\n",
       "    }\n",
       "\n",
       "    .dataframe tbody tr th {\n",
       "        vertical-align: top;\n",
       "    }\n",
       "\n",
       "    .dataframe thead th {\n",
       "        text-align: right;\n",
       "    }\n",
       "</style>\n",
       "<table border=\"1\" class=\"dataframe\">\n",
       "  <thead>\n",
       "    <tr style=\"text-align: right;\">\n",
       "      <th></th>\n",
       "      <th>ID</th>\n",
       "      <th>Name</th>\n",
       "      <th>Salary</th>\n",
       "      <th>Age</th>\n",
       "    </tr>\n",
       "  </thead>\n",
       "  <tbody>\n",
       "    <tr>\n",
       "      <th>0</th>\n",
       "      <td>False</td>\n",
       "      <td>False</td>\n",
       "      <td>False</td>\n",
       "      <td>False</td>\n",
       "    </tr>\n",
       "    <tr>\n",
       "      <th>1</th>\n",
       "      <td>False</td>\n",
       "      <td>False</td>\n",
       "      <td>False</td>\n",
       "      <td>True</td>\n",
       "    </tr>\n",
       "    <tr>\n",
       "      <th>2</th>\n",
       "      <td>False</td>\n",
       "      <td>False</td>\n",
       "      <td>True</td>\n",
       "      <td>True</td>\n",
       "    </tr>\n",
       "    <tr>\n",
       "      <th>3</th>\n",
       "      <td>False</td>\n",
       "      <td>False</td>\n",
       "      <td>True</td>\n",
       "      <td>True</td>\n",
       "    </tr>\n",
       "  </tbody>\n",
       "</table>\n",
       "</div>"
      ],
      "text/plain": [
       "      ID   Name  Salary    Age\n",
       "0  False  False   False  False\n",
       "1  False  False   False   True\n",
       "2  False  False    True   True\n",
       "3  False  False    True   True"
      ]
     },
     "execution_count": 67,
     "metadata": {},
     "output_type": "execute_result"
    }
   ],
   "source": [
    "data = {\n",
    "    'ID':[100,101,102,103],\n",
    "    'Name':['วิเชียร', 'ชาญชัย', 'จักรพงษ์', 'มัณฑนา'],\n",
    "    'Salary':[20000,22000,np.nan,pd.NaT],\n",
    "    'Age':[35,pd.NaT,np.nan,None]\n",
    "}\n",
    "\n",
    "df = pd.DataFrame(data)\n",
    "df.isnull()"
   ]
  },
  {
   "cell_type": "code",
   "execution_count": null,
   "id": "1004e57a",
   "metadata": {},
   "outputs": [
    {
     "name": "stderr",
     "output_type": "stream",
     "text": [
      "C:\\Users\\pepeb\\AppData\\Local\\Temp\\ipykernel_122276\\3933014241.py:9: FutureWarning: DataFrame.interpolate with object dtype is deprecated and will raise in a future version. Call obj.infer_objects(copy=False) before interpolating instead.\n",
      "  result = df.interpolate()\n"
     ]
    },
    {
     "data": {
      "text/html": [
       "<div>\n",
       "<style scoped>\n",
       "    .dataframe tbody tr th:only-of-type {\n",
       "        vertical-align: middle;\n",
       "    }\n",
       "\n",
       "    .dataframe tbody tr th {\n",
       "        vertical-align: top;\n",
       "    }\n",
       "\n",
       "    .dataframe thead th {\n",
       "        text-align: right;\n",
       "    }\n",
       "</style>\n",
       "<table border=\"1\" class=\"dataframe\">\n",
       "  <thead>\n",
       "    <tr style=\"text-align: right;\">\n",
       "      <th></th>\n",
       "      <th>ID</th>\n",
       "      <th>Name</th>\n",
       "      <th>Salary</th>\n",
       "      <th>Age</th>\n",
       "    </tr>\n",
       "  </thead>\n",
       "  <tbody>\n",
       "    <tr>\n",
       "      <th>0</th>\n",
       "      <td>100</td>\n",
       "      <td>วิเชียร</td>\n",
       "      <td>20000.0</td>\n",
       "      <td>35.0</td>\n",
       "    </tr>\n",
       "    <tr>\n",
       "      <th>1</th>\n",
       "      <td>101</td>\n",
       "      <td>ชาญชัย</td>\n",
       "      <td>22000.0</td>\n",
       "      <td>36.0</td>\n",
       "    </tr>\n",
       "    <tr>\n",
       "      <th>2</th>\n",
       "      <td>102</td>\n",
       "      <td>จักรพงษ์</td>\n",
       "      <td>20500.0</td>\n",
       "      <td>36.5</td>\n",
       "    </tr>\n",
       "    <tr>\n",
       "      <th>3</th>\n",
       "      <td>103</td>\n",
       "      <td>มัณฑนา</td>\n",
       "      <td>19000.0</td>\n",
       "      <td>37.0</td>\n",
       "    </tr>\n",
       "  </tbody>\n",
       "</table>\n",
       "</div>"
      ],
      "text/plain": [
       "    ID      Name   Salary   Age\n",
       "0  100   วิเชียร  20000.0  35.0\n",
       "1  101    ชาญชัย  22000.0  36.0\n",
       "2  102  จักรพงษ์  20500.0  36.5\n",
       "3  103    มัณฑนา  19000.0  37.0"
      ]
     },
     "execution_count": 68,
     "metadata": {},
     "output_type": "execute_result"
    }
   ],
   "source": [
    "data = {\n",
    "    'ID':[100,101,102,103],\n",
    "    'Name':['วิเชียร', 'ชาญชัย', 'จักรพงษ์', 'มัณฑนา'],\n",
    "    'Salary':[20000,22000,np.nan,19000],\n",
    "    'Age':[35,36,np.nan,37]\n",
    "}\n",
    "\n",
    "df = pd.DataFrame(data)\n",
    "result = df.interpolate()\n",
    "\n",
    "result"
   ]
  },
  {
   "cell_type": "code",
   "execution_count": null,
   "id": "0ec89f25",
   "metadata": {},
   "outputs": [
    {
     "name": "stderr",
     "output_type": "stream",
     "text": [
      "C:\\Users\\pepeb\\AppData\\Local\\Temp\\ipykernel_122276\\1390253118.py:9: FutureWarning: Downcasting object dtype arrays on .fillna, .ffill, .bfill is deprecated and will change in a future version. Call result.infer_objects(copy=False) instead. To opt-in to the future behavior, set `pd.set_option('future.no_silent_downcasting', True)`\n",
      "  df_correct = df.fillna({'Salary':30000,'Age':23})\n"
     ]
    },
    {
     "data": {
      "text/html": [
       "<div>\n",
       "<style scoped>\n",
       "    .dataframe tbody tr th:only-of-type {\n",
       "        vertical-align: middle;\n",
       "    }\n",
       "\n",
       "    .dataframe tbody tr th {\n",
       "        vertical-align: top;\n",
       "    }\n",
       "\n",
       "    .dataframe thead th {\n",
       "        text-align: right;\n",
       "    }\n",
       "</style>\n",
       "<table border=\"1\" class=\"dataframe\">\n",
       "  <thead>\n",
       "    <tr style=\"text-align: right;\">\n",
       "      <th></th>\n",
       "      <th>ID</th>\n",
       "      <th>Name</th>\n",
       "      <th>Salary</th>\n",
       "      <th>Age</th>\n",
       "    </tr>\n",
       "  </thead>\n",
       "  <tbody>\n",
       "    <tr>\n",
       "      <th>0</th>\n",
       "      <td>100</td>\n",
       "      <td>วิเชียร</td>\n",
       "      <td>20000</td>\n",
       "      <td>35.0</td>\n",
       "    </tr>\n",
       "    <tr>\n",
       "      <th>1</th>\n",
       "      <td>101</td>\n",
       "      <td>ชาญชัย</td>\n",
       "      <td>22000</td>\n",
       "      <td>36.0</td>\n",
       "    </tr>\n",
       "    <tr>\n",
       "      <th>2</th>\n",
       "      <td>102</td>\n",
       "      <td>จักรพงษ์</td>\n",
       "      <td>30000</td>\n",
       "      <td>23.0</td>\n",
       "    </tr>\n",
       "    <tr>\n",
       "      <th>3</th>\n",
       "      <td>103</td>\n",
       "      <td>มัณฑนา</td>\n",
       "      <td>30000</td>\n",
       "      <td>23.0</td>\n",
       "    </tr>\n",
       "  </tbody>\n",
       "</table>\n",
       "</div>"
      ],
      "text/plain": [
       "    ID      Name  Salary   Age\n",
       "0  100   วิเชียร   20000  35.0\n",
       "1  101    ชาญชัย   22000  36.0\n",
       "2  102  จักรพงษ์   30000  23.0\n",
       "3  103    มัณฑนา   30000  23.0"
      ]
     },
     "execution_count": 69,
     "metadata": {},
     "output_type": "execute_result"
    }
   ],
   "source": [
    "data = {\n",
    "    'ID':[100,101,102,103],\n",
    "    'Name':['วิเชียร', 'ชาญชัย', 'จักรพงษ์', 'มัณฑนา'],\n",
    "    'Salary':[20000,22000,np.nan,pd.NaT],\n",
    "    'Age':[35,36,np.nan,None]\n",
    "}\n",
    "\n",
    "df = pd.DataFrame(data)\n",
    "df_correct = df.fillna({'Salary':30000,'Age':23})\n",
    "\n",
    "df_correct"
   ]
  },
  {
   "cell_type": "code",
   "execution_count": null,
   "id": "59a5c668",
   "metadata": {},
   "outputs": [
    {
     "name": "stderr",
     "output_type": "stream",
     "text": [
      "C:\\Users\\pepeb\\AppData\\Local\\Temp\\ipykernel_122276\\2822492853.py:9: FutureWarning: DataFrame.fillna with 'method' is deprecated and will raise in a future version. Use obj.ffill() or obj.bfill() instead.\n",
      "  df_correct = df.fillna(method='ffill')\n",
      "C:\\Users\\pepeb\\AppData\\Local\\Temp\\ipykernel_122276\\2822492853.py:9: FutureWarning: Downcasting object dtype arrays on .fillna, .ffill, .bfill is deprecated and will change in a future version. Call result.infer_objects(copy=False) instead. To opt-in to the future behavior, set `pd.set_option('future.no_silent_downcasting', True)`\n",
      "  df_correct = df.fillna(method='ffill')\n"
     ]
    },
    {
     "data": {
      "text/html": [
       "<div>\n",
       "<style scoped>\n",
       "    .dataframe tbody tr th:only-of-type {\n",
       "        vertical-align: middle;\n",
       "    }\n",
       "\n",
       "    .dataframe tbody tr th {\n",
       "        vertical-align: top;\n",
       "    }\n",
       "\n",
       "    .dataframe thead th {\n",
       "        text-align: right;\n",
       "    }\n",
       "</style>\n",
       "<table border=\"1\" class=\"dataframe\">\n",
       "  <thead>\n",
       "    <tr style=\"text-align: right;\">\n",
       "      <th></th>\n",
       "      <th>ID</th>\n",
       "      <th>Name</th>\n",
       "      <th>Salary</th>\n",
       "      <th>Age</th>\n",
       "    </tr>\n",
       "  </thead>\n",
       "  <tbody>\n",
       "    <tr>\n",
       "      <th>0</th>\n",
       "      <td>100</td>\n",
       "      <td>วิเชียร</td>\n",
       "      <td>20000</td>\n",
       "      <td>35.0</td>\n",
       "    </tr>\n",
       "    <tr>\n",
       "      <th>1</th>\n",
       "      <td>101</td>\n",
       "      <td>ชาญชัย</td>\n",
       "      <td>22000</td>\n",
       "      <td>36.0</td>\n",
       "    </tr>\n",
       "    <tr>\n",
       "      <th>2</th>\n",
       "      <td>102</td>\n",
       "      <td>จักรพงษ์</td>\n",
       "      <td>22000</td>\n",
       "      <td>36.0</td>\n",
       "    </tr>\n",
       "    <tr>\n",
       "      <th>3</th>\n",
       "      <td>103</td>\n",
       "      <td>มัณฑนา</td>\n",
       "      <td>22000</td>\n",
       "      <td>36.0</td>\n",
       "    </tr>\n",
       "  </tbody>\n",
       "</table>\n",
       "</div>"
      ],
      "text/plain": [
       "    ID      Name  Salary   Age\n",
       "0  100   วิเชียร   20000  35.0\n",
       "1  101    ชาญชัย   22000  36.0\n",
       "2  102  จักรพงษ์   22000  36.0\n",
       "3  103    มัณฑนา   22000  36.0"
      ]
     },
     "execution_count": 70,
     "metadata": {},
     "output_type": "execute_result"
    }
   ],
   "source": [
    "data = {\n",
    "    'ID':[100,101,102,103],\n",
    "    'Name':['วิเชียร', 'ชาญชัย', 'จักรพงษ์', 'มัณฑนา'],\n",
    "    'Salary':[20000,22000,np.nan,pd.NaT],\n",
    "    'Age':[35,36,np.nan,None]\n",
    "}\n",
    "\n",
    "df = pd.DataFrame(data)\n",
    "df_correct = df.fillna(method='ffill')\n",
    "\n",
    "df_correct"
   ]
  },
  {
   "cell_type": "code",
   "execution_count": null,
   "id": "bb187f78",
   "metadata": {},
   "outputs": [
    {
     "name": "stdout",
     "output_type": "stream",
     "text": [
      "Mean:nan\n",
      "Cleanmean: 111.0\n"
     ]
    }
   ],
   "source": [
    "data = [84, 112, 137, np.nan]\n",
    "arr = np.array(data)\n",
    "\n",
    "normalmean = np.mean(arr)\n",
    "cleanmean = np.nanmean(arr)\n",
    "\n",
    "print(f'Mean:{normalmean}')\n",
    "print(f'Cleanmean: {cleanmean}')"
   ]
  },
  {
   "cell_type": "code",
   "execution_count": null,
   "id": "5efff45d",
   "metadata": {},
   "outputs": [
    {
     "data": {
      "text/plain": [
       "np.float64(124.5)"
      ]
     },
     "execution_count": 72,
     "metadata": {},
     "output_type": "execute_result"
    }
   ],
   "source": [
    "data = [84, 112, 137, 165]\n",
    "\n",
    "np.mean(data)"
   ]
  },
  {
   "cell_type": "code",
   "execution_count": null,
   "id": "93e5d398",
   "metadata": {},
   "outputs": [
    {
     "name": "stdout",
     "output_type": "stream",
     "text": [
      "24875.0\n"
     ]
    }
   ],
   "source": [
    "data = [\n",
    "    ['John',180,16000],\n",
    "    ['Jane',165,18500],\n",
    "    ['Justin',190,27500],\n",
    "    ['Jammies',172,37500]\n",
    "]\n",
    "\n",
    "colname = ['name','height','salary']\n",
    "df = pd.DataFrame(data, columns=colname)\n",
    "\n",
    "df['height'].mean()\n",
    "print(df['salary'].mean())"
   ]
  },
  {
   "cell_type": "code",
   "execution_count": null,
   "id": "aa994232",
   "metadata": {},
   "outputs": [
    {
     "data": {
      "text/html": [
       "<div>\n",
       "<style scoped>\n",
       "    .dataframe tbody tr th:only-of-type {\n",
       "        vertical-align: middle;\n",
       "    }\n",
       "\n",
       "    .dataframe tbody tr th {\n",
       "        vertical-align: top;\n",
       "    }\n",
       "\n",
       "    .dataframe thead th {\n",
       "        text-align: right;\n",
       "    }\n",
       "</style>\n",
       "<table border=\"1\" class=\"dataframe\">\n",
       "  <thead>\n",
       "    <tr style=\"text-align: right;\">\n",
       "      <th></th>\n",
       "      <th>Salary</th>\n",
       "    </tr>\n",
       "    <tr>\n",
       "      <th>Gender</th>\n",
       "      <th></th>\n",
       "    </tr>\n",
       "  </thead>\n",
       "  <tbody>\n",
       "    <tr>\n",
       "      <th>Female</th>\n",
       "      <td>32500.0</td>\n",
       "    </tr>\n",
       "    <tr>\n",
       "      <th>Male</th>\n",
       "      <td>36364.0</td>\n",
       "    </tr>\n",
       "  </tbody>\n",
       "</table>\n",
       "</div>"
      ],
      "text/plain": [
       "         Salary\n",
       "Gender         \n",
       "Female  32500.0\n",
       "Male    36364.0"
      ]
     },
     "execution_count": 74,
     "metadata": {},
     "output_type": "execute_result"
    }
   ],
   "source": [
    "data = [\n",
    "    ['Max', 185, 27000, 'Male'],\n",
    "    ['Anna', 165, 31000, 'Female'],\n",
    "    ['Joe', 174, 23456, 'Male'],\n",
    "    ['Lily', 160, 29000, 'Female'],\n",
    "    ['Ben', 180, 45000, 'Male'],\n",
    "    ['Sara', 170, 34000, 'Female'],\n",
    "    ['Tom', 182, 50000, 'Male'],\n",
    "    ['Nina', 168, 36000, 'Female']]\n",
    "\n",
    "colname = ['Name','Height','Salary','Gender']\n",
    "df = pd.DataFrame(data, columns=colname)\n",
    "\n",
    "role = df.groupby(['Gender'])\n",
    "df_groupby_role = role[['Gender','Salary']]\n",
    "result = df_groupby_role.mean(['Height','Salary'])\n",
    "\n",
    "result"
   ]
  },
  {
   "cell_type": "code",
   "execution_count": null,
   "id": "43d00b48",
   "metadata": {},
   "outputs": [
    {
     "name": "stdout",
     "output_type": "stream",
     "text": [
      "142.214286\n"
     ]
    }
   ],
   "source": [
    "data = [197, 197, 107.5, 183, 67, 127, 117]\n",
    "rs = st.fmean(data)\n",
    "\n",
    "print(f'{rs:3f}')"
   ]
  },
  {
   "cell_type": "code",
   "execution_count": null,
   "id": "73de5ee1",
   "metadata": {},
   "outputs": [
    {
     "name": "stdout",
     "output_type": "stream",
     "text": [
      "4.717694\n"
     ]
    }
   ],
   "source": [
    "data = [3,5,7]\n",
    "result = st.geometric_mean(data)\n",
    "\n",
    "print(f'{result:3f}')"
   ]
  },
  {
   "cell_type": "code",
   "execution_count": null,
   "id": "4e7997b4",
   "metadata": {},
   "outputs": [],
   "source": [
    "#rs = np.average([200,300,900], weights=3)\n",
    "#rs"
   ]
  },
  {
   "cell_type": "code",
   "execution_count": null,
   "id": "df169e1d",
   "metadata": {},
   "outputs": [
    {
     "data": {
      "text/plain": [
       "2.0"
      ]
     },
     "execution_count": 78,
     "metadata": {},
     "output_type": "execute_result"
    }
   ],
   "source": [
    "df = pd.DataFrame(\n",
    "    {\n",
    "    'x':[1,2,3],\n",
    "    'y':[1,1,1]\n",
    "    }\n",
    ")\n",
    "\n",
    "rs = np.average(df['x'], weights=df['y'])\n",
    "resalt = sum(df['x'] * df['y']) / sum(df['y'])\n",
    "\n",
    "rs\n",
    "resalt"
   ]
  },
  {
   "cell_type": "code",
   "execution_count": null,
   "id": "edd2ad54",
   "metadata": {},
   "outputs": [
    {
     "data": {
      "text/plain": [
       "'Speed:118.040'"
      ]
     },
     "execution_count": 79,
     "metadata": {},
     "output_type": "execute_result"
    }
   ],
   "source": [
    "data = [74, 133.05, 130, 185.75, 179, 129.78, 84]\n",
    "result = st.harmonic_mean(data)\n",
    "\n",
    "f'Speed:{result:.3f}'"
   ]
  },
  {
   "cell_type": "code",
   "execution_count": null,
   "id": "71235d05",
   "metadata": {},
   "outputs": [
    {
     "data": {
      "text/plain": [
       "'MD: 173.500'"
      ]
     },
     "execution_count": 80,
     "metadata": {},
     "output_type": "execute_result"
    }
   ],
   "source": [
    "data = [181, 61, 196, 166, 78,196]\n",
    "rds = np.median(data)\n",
    "\n",
    "f'MD: {rds:.3f}'"
   ]
  },
  {
   "cell_type": "code",
   "execution_count": null,
   "id": "2b0edb5d",
   "metadata": {},
   "outputs": [
    {
     "name": "stdout",
     "output_type": "stream",
     "text": [
      "median:173.5\n",
      "median_low:166\n",
      "median_high:181\n"
     ]
    }
   ],
   "source": [
    "data = [181, 61, 196, 166, 78,196]\n",
    "rs = st.median(data)\n",
    "rsh = st.median_low(data)\n",
    "rsl = st.median_high(data)\n",
    "\n",
    "print(f'median:{rs}')\n",
    "print(f'median_low:{rsh}')\n",
    "print(f'median_high:{rsl}')"
   ]
  },
  {
   "cell_type": "code",
   "execution_count": null,
   "id": "3ca1dab1",
   "metadata": {},
   "outputs": [],
   "source": []
  },
  {
   "cell_type": "code",
   "execution_count": null,
   "id": "6cc3290f",
   "metadata": {},
   "outputs": [
    {
     "data": {
      "text/plain": [
       "[3, 0, 0, 3, -4, 2]"
      ]
     },
     "execution_count": 85,
     "metadata": {},
     "output_type": "execute_result"
    }
   ],
   "source": [
    "#Random num\n",
    "numlist = []\n",
    "for i in range(6):\n",
    "    numlist.append(rd.randrange(-5,5))\n",
    "\n",
    "numlist"
   ]
  },
  {
   "cell_type": "code",
   "execution_count": null,
   "id": "84383464",
   "metadata": {},
   "outputs": [
    {
     "data": {
      "text/plain": [
       "['สมบูรณ์', 'อาคม', 'ปวีณา', 'พรชัย', 'ณรงค์']"
      ]
     },
     "execution_count": 83,
     "metadata": {},
     "output_type": "execute_result"
    }
   ],
   "source": [
    "import random\n",
    "names = [\n",
    "    \"สมชาย\", \"สมหญิง\", \"วิชัย\", \"นฤมล\", \"สุชาติ\", \"ณัฐธิดา\", \"ประเสริฐ\", \"ปวีณา\", \"อาคม\", \"ชุติมา\",\n",
    "    \"เกรียงศักดิ์\", \"ศิริพร\", \"วรากร\", \"มัณฑนา\", \"ศักดา\", \"พิมพ์ใจ\", \"อนันต์\", \"อรอนงค์\", \"จักรพงษ์\", \"อัจฉรา\",\n",
    "    \"วิเชียร\", \"วรรณา\", \"ณรงค์\", \"กรรณิการ์\", \"บุญเลิศ\", \"สายใจ\", \"พรชัย\", \"นงนุช\", \"สมบูรณ์\", \"สุนิสา\",\n",
    "    \"วีระ\", \"จินตนา\", \"ศุภชัย\", \"สุกัญญา\", \"พิเชษฐ์\", \"อรทัย\", \"ชาญชัย\", \"ธิดารัตน์\", \"ไพโรจน์\", \"จารุวรรณ\",\n",
    "    \"ธีระ\", \"กัลยา\", \"วินัย\", \"เบญจวรรณ\", \"ประทีป\", \"มยุรี\", \"กิตติ\", \"นุจรี\", \"ถาวร\", \"สุกัญญา\",\n",
    "]\n",
    "\n",
    "\n",
    "namelist = []\n",
    "\n",
    "for i in range(5):\n",
    "    selected = random.choice(names)\n",
    "    namelist.append(selected)\n",
    "\n",
    "namelist"
   ]
  },
  {
   "cell_type": "code",
   "execution_count": null,
   "id": "a3ae224c",
   "metadata": {},
   "outputs": [
    {
     "data": {
      "text/plain": [
       "['Kevin', 'Scarlett', 'Joseph', 'Abigail']"
      ]
     },
     "execution_count": 84,
     "metadata": {},
     "output_type": "execute_result"
    }
   ],
   "source": [
    "name = [\"James\", \"Emily\", \"Michael\", \"Olivia\", \"William\", \"Sophia\", \"David\", \"Emma\", \"John\", \"Ava\",\n",
    "    \"Daniel\", \"Mia\", \"Matthew\", \"Isabella\", \"Joseph\", \"Charlotte\", \"Andrew\", \"Amelia\", \"Christopher\", \"Harper\",\n",
    "    \"Joshua\", \"Evelyn\", \"Anthony\", \"Abigail\", \"Nicholas\", \"Ella\", \"Jonathan\", \"Grace\", \"Samuel\", \"Chloe\",\n",
    "    \"Benjamin\", \"Lily\", \"Alexander\", \"Zoey\", \"Ryan\", \"Sofia\", \"Jacob\", \"Aria\", \"Ethan\", \"Scarlett\",\n",
    "    \"Nathan\", \"Layla\", \"Logan\", \"Avery\", \"Justin\", \"Ellie\", \"Kevin\", \"Nora\", \"Brian\", \"Hannah\"]\n",
    "\n",
    "nlist = []\n",
    "\n",
    "for i in range(4):\n",
    "    selected = random.choice(name)\n",
    "    nlist.append(selected)\n",
    "\n",
    "nlist"
   ]
  }
 ],
 "metadata": {
  "kernelspec": {
   "display_name": "Python 3",
   "language": "python",
   "name": "python3"
  },
  "language_info": {
   "codemirror_mode": {
    "name": "ipython",
    "version": 3
   },
   "file_extension": ".py",
   "mimetype": "text/x-python",
   "name": "python",
   "nbconvert_exporter": "python",
   "pygments_lexer": "ipython3",
   "version": "3.12.4"
  }
 },
 "nbformat": 4,
 "nbformat_minor": 5
}
